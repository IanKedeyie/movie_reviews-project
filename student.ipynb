{
 "cells": [
  {
   "cell_type": "markdown",
   "metadata": {},
   "source": [
    "## Final Project Submission\n",
    "\n",
    "Please fill out:\n",
    "* Student name: IAN KEDEYIE TSIMANGO\n",
    "* Student pace: self paced / part time / full time\n",
    "* Scheduled project review date/time: 15th september 2023 \n",
    "* Instructor name: NIKITA NJOROGE\n",
    "* Blog post URL: https://github.com/IanKedeyie/movie_reviews-project.git\n"
   ]
  },
  {
   "cell_type": "markdown",
   "metadata": {},
   "source": [
    "## 1. BUSINESS UNDERSTANDING"
   ]
  },
  {
   "cell_type": "markdown",
   "metadata": {},
   "source": [
    "Microsoft aims to enter the entertainment industry by creating a new movie studio. However, they lack expertise in the movie-making business and need data-driven insights to make informed decisions about the types of films to produce. The primary business goal is to determine what types of films perform well at the box office and translate these findings into actionable recommendations for Microsoft's new movie studio.\n",
    "\n",
    "Key agendas:\n",
    "\n",
    "Data Sources: Microsoft has access to various movie datasets from different sources, including Box Office Mojo, IMDB, Rotten Tomatoes, TheMovieDB, and The Numbers. The data is diverse and comes in different formats, including compressed CSV, TSV, and SQLite databases. Microsoft has provided flexibility in choosing which data to use for analysis.\n",
    "\n",
    "Data Relationships: The datasets contain information about movies, including their titles, genres, release years, ratings, box office earnings, and more. The IMDB data is central to the analysis and is related to other provided data files. The challenge is to understand how these datasets are interconnected and how to leverage them effectively.\n"
   ]
  },
  {
   "cell_type": "markdown",
   "metadata": {},
   "source": [
     "## DATA UNDERSTANDING
    "We can start by loading different datasets in order to merge it as one in order to start our analysis"
   ]
  },
  {
   "cell_type": "code",
   "execution_count": 7,
   "metadata": {},
   "outputs": [
    {
     "name": "stdout",
     "output_type": "stream",
     "text": [
      "README.md\n",
      "bom.movie_gross.csv.gz\n",
      "im.db\n",
      "project presentation.pdf\n",
      "rt.movie_info.tsv.gz\n",
      "rt.reviews.tsv.gz\n",
      "student.ipynb\n",
      "tmdb.movies.csv.gz\n",
      "tn.movie_budgets.csv.gz\n"
     ]
    }
   ],
   "source": [
    "# Your code here - remember to use markdown cells for comments as well!\n",
    "! ls"
   ]
  },
  {
   "cell_type": "markdown",
   "metadata": {},
   "source": [
    "### Importing Libraries"
   ]
  },
  {
   "cell_type": "code",
   "execution_count": 8,
   "metadata": {},
   "outputs": [],
   "source": [
    "#Import neccesary libraries to get set\n",
    "import pandas as pd\n",
    "import numpy as np\n",
    "import sqlite3"
   ]
  },
  {
   "cell_type": "markdown",
   "metadata": {},
   "source": [
    "#### Loading the dataset"
   ]
  },
  {
   "cell_type": "code",
   "execution_count": 9,
   "metadata": {
    "scrolled": true
   },
   "outputs": [
    {
     "data": {
      "text/html": [
       "<div>\n",
       "<style scoped>\n",
       "    .dataframe tbody tr th:only-of-type {\n",
       "        vertical-align: middle;\n",
       "    }\n",
       "\n",
       "    .dataframe tbody tr th {\n",
       "        vertical-align: top;\n",
       "    }\n",
       "\n",
       "    .dataframe thead th {\n",
       "        text-align: right;\n",
       "    }\n",
       "</style>\n",
       "<table border=\"1\" class=\"dataframe\">\n",
       "  <thead>\n",
       "    <tr style=\"text-align: right;\">\n",
       "      <th></th>\n",
       "      <th>title</th>\n",
       "      <th>studio</th>\n",
       "      <th>domestic_gross</th>\n",
       "      <th>foreign_gross</th>\n",
       "      <th>year</th>\n",
       "    </tr>\n",
       "  </thead>\n",
       "  <tbody>\n",
       "    <tr>\n",
       "      <th>0</th>\n",
       "      <td>Toy Story 3</td>\n",
       "      <td>BV</td>\n",
       "      <td>415000000.0</td>\n",
       "      <td>652000000</td>\n",
       "      <td>2010</td>\n",
       "    </tr>\n",
       "    <tr>\n",
       "      <th>1</th>\n",
       "      <td>Alice in Wonderland (2010)</td>\n",
       "      <td>BV</td>\n",
       "      <td>334200000.0</td>\n",
       "      <td>691300000</td>\n",
       "      <td>2010</td>\n",
       "    </tr>\n",
       "    <tr>\n",
       "      <th>2</th>\n",
       "      <td>Harry Potter and the Deathly Hallows Part 1</td>\n",
       "      <td>WB</td>\n",
       "      <td>296000000.0</td>\n",
       "      <td>664300000</td>\n",
       "      <td>2010</td>\n",
       "    </tr>\n",
       "    <tr>\n",
       "      <th>3</th>\n",
       "      <td>Inception</td>\n",
       "      <td>WB</td>\n",
       "      <td>292600000.0</td>\n",
       "      <td>535700000</td>\n",
       "      <td>2010</td>\n",
       "    </tr>\n",
       "    <tr>\n",
       "      <th>4</th>\n",
       "      <td>Shrek Forever After</td>\n",
       "      <td>P/DW</td>\n",
       "      <td>238700000.0</td>\n",
       "      <td>513900000</td>\n",
       "      <td>2010</td>\n",
       "    </tr>\n",
       "  </tbody>\n",
       "</table>\n",
       "</div>"
      ],
      "text/plain": [
       "                                         title studio  domestic_gross  \\\n",
       "0                                  Toy Story 3     BV     415000000.0   \n",
       "1                   Alice in Wonderland (2010)     BV     334200000.0   \n",
       "2  Harry Potter and the Deathly Hallows Part 1     WB     296000000.0   \n",
       "3                                    Inception     WB     292600000.0   \n",
       "4                          Shrek Forever After   P/DW     238700000.0   \n",
       "\n",
       "  foreign_gross  year  \n",
       "0     652000000  2010  \n",
       "1     691300000  2010  \n",
       "2     664300000  2010  \n",
       "3     535700000  2010  \n",
       "4     513900000  2010  "
      ]
     },
     "execution_count": 9,
     "metadata": {},
     "output_type": "execute_result"
    }
   ],
   "source": [
    "#open the first data set \n",
    "df1 = pd.read_csv('bom.movie_gross.csv.gz')\n",
    "df1.head()"
   ]
  },
  {
   "cell_type": "code",
   "execution_count": 10,
   "metadata": {},
   "outputs": [
    {
     "data": {
      "text/html": [
       "<div>\n",
       "<style scoped>\n",
       "    .dataframe tbody tr th:only-of-type {\n",
       "        vertical-align: middle;\n",
       "    }\n",
       "\n",
       "    .dataframe tbody tr th {\n",
       "        vertical-align: top;\n",
       "    }\n",
       "\n",
       "    .dataframe thead th {\n",
       "        text-align: right;\n",
       "    }\n",
       "</style>\n",
       "<table border=\"1\" class=\"dataframe\">\n",
       "  <thead>\n",
       "    <tr style=\"text-align: right;\">\n",
       "      <th></th>\n",
       "      <th>Unnamed: 0</th>\n",
       "      <th>genre_ids</th>\n",
       "      <th>id</th>\n",
       "      <th>original_language</th>\n",
       "      <th>original_title</th>\n",
       "      <th>popularity</th>\n",
       "      <th>release_date</th>\n",
       "      <th>title</th>\n",
       "      <th>vote_average</th>\n",
       "      <th>vote_count</th>\n",
       "    </tr>\n",
       "  </thead>\n",
       "  <tbody>\n",
       "    <tr>\n",
       "      <th>0</th>\n",
       "      <td>0</td>\n",
       "      <td>[12, 14, 10751]</td>\n",
       "      <td>12444</td>\n",
       "      <td>en</td>\n",
       "      <td>Harry Potter and the Deathly Hallows: Part 1</td>\n",
       "      <td>33.533</td>\n",
       "      <td>2010-11-19</td>\n",
       "      <td>Harry Potter and the Deathly Hallows: Part 1</td>\n",
       "      <td>7.7</td>\n",
       "      <td>10788</td>\n",
       "    </tr>\n",
       "    <tr>\n",
       "      <th>1</th>\n",
       "      <td>1</td>\n",
       "      <td>[14, 12, 16, 10751]</td>\n",
       "      <td>10191</td>\n",
       "      <td>en</td>\n",
       "      <td>How to Train Your Dragon</td>\n",
       "      <td>28.734</td>\n",
       "      <td>2010-03-26</td>\n",
       "      <td>How to Train Your Dragon</td>\n",
       "      <td>7.7</td>\n",
       "      <td>7610</td>\n",
       "    </tr>\n",
       "    <tr>\n",
       "      <th>2</th>\n",
       "      <td>2</td>\n",
       "      <td>[12, 28, 878]</td>\n",
       "      <td>10138</td>\n",
       "      <td>en</td>\n",
       "      <td>Iron Man 2</td>\n",
       "      <td>28.515</td>\n",
       "      <td>2010-05-07</td>\n",
       "      <td>Iron Man 2</td>\n",
       "      <td>6.8</td>\n",
       "      <td>12368</td>\n",
       "    </tr>\n",
       "    <tr>\n",
       "      <th>3</th>\n",
       "      <td>3</td>\n",
       "      <td>[16, 35, 10751]</td>\n",
       "      <td>862</td>\n",
       "      <td>en</td>\n",
       "      <td>Toy Story</td>\n",
       "      <td>28.005</td>\n",
       "      <td>1995-11-22</td>\n",
       "      <td>Toy Story</td>\n",
       "      <td>7.9</td>\n",
       "      <td>10174</td>\n",
       "    </tr>\n",
       "    <tr>\n",
       "      <th>4</th>\n",
       "      <td>4</td>\n",
       "      <td>[28, 878, 12]</td>\n",
       "      <td>27205</td>\n",
       "      <td>en</td>\n",
       "      <td>Inception</td>\n",
       "      <td>27.920</td>\n",
       "      <td>2010-07-16</td>\n",
       "      <td>Inception</td>\n",
       "      <td>8.3</td>\n",
       "      <td>22186</td>\n",
       "    </tr>\n",
       "  </tbody>\n",
       "</table>\n",
       "</div>"
      ],
      "text/plain": [
       "   Unnamed: 0            genre_ids     id original_language  \\\n",
       "0           0      [12, 14, 10751]  12444                en   \n",
       "1           1  [14, 12, 16, 10751]  10191                en   \n",
       "2           2        [12, 28, 878]  10138                en   \n",
       "3           3      [16, 35, 10751]    862                en   \n",
       "4           4        [28, 878, 12]  27205                en   \n",
       "\n",
       "                                 original_title  popularity release_date  \\\n",
       "0  Harry Potter and the Deathly Hallows: Part 1      33.533   2010-11-19   \n",
       "1                      How to Train Your Dragon      28.734   2010-03-26   \n",
       "2                                    Iron Man 2      28.515   2010-05-07   \n",
       "3                                     Toy Story      28.005   1995-11-22   \n",
       "4                                     Inception      27.920   2010-07-16   \n",
       "\n",
       "                                          title  vote_average  vote_count  \n",
       "0  Harry Potter and the Deathly Hallows: Part 1           7.7       10788  \n",
       "1                      How to Train Your Dragon           7.7        7610  \n",
       "2                                    Iron Man 2           6.8       12368  \n",
       "3                                     Toy Story           7.9       10174  \n",
       "4                                     Inception           8.3       22186  "
      ]
     },
     "execution_count": 10,
     "metadata": {},
     "output_type": "execute_result"
    }
   ],
   "source": [
    "# open the second data set\n",
    "df2 = pd.read_csv('tmdb.movies.csv.gz')\n",
    "df2.head()"
   ]
  },
  {
   "cell_type": "code",
   "execution_count": 11,
   "metadata": {},
   "outputs": [
    {
     "data": {
      "text/html": [
       "<div>\n",
       "<style scoped>\n",
       "    .dataframe tbody tr th:only-of-type {\n",
       "        vertical-align: middle;\n",
       "    }\n",
       "\n",
       "    .dataframe tbody tr th {\n",
       "        vertical-align: top;\n",
       "    }\n",
       "\n",
       "    .dataframe thead th {\n",
       "        text-align: right;\n",
       "    }\n",
       "</style>\n",
       "<table border=\"1\" class=\"dataframe\">\n",
       "  <thead>\n",
       "    <tr style=\"text-align: right;\">\n",
       "      <th></th>\n",
       "      <th>id</th>\n",
       "      <th>release_date</th>\n",
       "      <th>movie</th>\n",
       "      <th>production_budget</th>\n",
       "      <th>domestic_gross</th>\n",
       "      <th>worldwide_gross</th>\n",
       "    </tr>\n",
       "  </thead>\n",
       "  <tbody>\n",
       "    <tr>\n",
       "      <th>0</th>\n",
       "      <td>1</td>\n",
       "      <td>Dec 18, 2009</td>\n",
       "      <td>Avatar</td>\n",
       "      <td>$425,000,000</td>\n",
       "      <td>$760,507,625</td>\n",
       "      <td>$2,776,345,279</td>\n",
       "    </tr>\n",
       "    <tr>\n",
       "      <th>1</th>\n",
       "      <td>2</td>\n",
       "      <td>May 20, 2011</td>\n",
       "      <td>Pirates of the Caribbean: On Stranger Tides</td>\n",
       "      <td>$410,600,000</td>\n",
       "      <td>$241,063,875</td>\n",
       "      <td>$1,045,663,875</td>\n",
       "    </tr>\n",
       "    <tr>\n",
       "      <th>2</th>\n",
       "      <td>3</td>\n",
       "      <td>Jun 7, 2019</td>\n",
       "      <td>Dark Phoenix</td>\n",
       "      <td>$350,000,000</td>\n",
       "      <td>$42,762,350</td>\n",
       "      <td>$149,762,350</td>\n",
       "    </tr>\n",
       "    <tr>\n",
       "      <th>3</th>\n",
       "      <td>4</td>\n",
       "      <td>May 1, 2015</td>\n",
       "      <td>Avengers: Age of Ultron</td>\n",
       "      <td>$330,600,000</td>\n",
       "      <td>$459,005,868</td>\n",
       "      <td>$1,403,013,963</td>\n",
       "    </tr>\n",
       "    <tr>\n",
       "      <th>4</th>\n",
       "      <td>5</td>\n",
       "      <td>Dec 15, 2017</td>\n",
       "      <td>Star Wars Ep. VIII: The Last Jedi</td>\n",
       "      <td>$317,000,000</td>\n",
       "      <td>$620,181,382</td>\n",
       "      <td>$1,316,721,747</td>\n",
       "    </tr>\n",
       "  </tbody>\n",
       "</table>\n",
       "</div>"
      ],
      "text/plain": [
       "   id  release_date                                        movie  \\\n",
       "0   1  Dec 18, 2009                                       Avatar   \n",
       "1   2  May 20, 2011  Pirates of the Caribbean: On Stranger Tides   \n",
       "2   3   Jun 7, 2019                                 Dark Phoenix   \n",
       "3   4   May 1, 2015                      Avengers: Age of Ultron   \n",
       "4   5  Dec 15, 2017            Star Wars Ep. VIII: The Last Jedi   \n",
       "\n",
       "  production_budget domestic_gross worldwide_gross  \n",
       "0      $425,000,000   $760,507,625  $2,776,345,279  \n",
       "1      $410,600,000   $241,063,875  $1,045,663,875  \n",
       "2      $350,000,000    $42,762,350    $149,762,350  \n",
       "3      $330,600,000   $459,005,868  $1,403,013,963  \n",
       "4      $317,000,000   $620,181,382  $1,316,721,747  "
      ]
     },
     "execution_count": 11,
     "metadata": {},
     "output_type": "execute_result"
    }
   ],
   "source": [
    "#open the third dataset\n",
    "df3 = pd.read_csv('tn.movie_budgets.csv.gz')\n",
    "df3.head()"
   ]
  },
  {
   "cell_type": "code",
   "execution_count": 12,
   "metadata": {},
   "outputs": [
    {
     "name": "stdout",
     "output_type": "stream",
     "text": [
      "Tables in the database:\n",
      "movie_basics\n",
      "directors\n",
      "known_for\n",
      "movie_akas\n",
      "movie_ratings\n",
      "persons\n",
      "principals\n",
      "writers\n"
     ]
    }
   ],
   "source": [
  When it comes to dataframe 4 & 5 we'll make use of the sqlite3 library as well as pandas. By combining them, we'll be able to write queries as Python strings, then display the results in a conveniently-formatted table.
  In the cell below, we:

*Import the necessary libraries, pandas and sqlite3

*Establish a connection to the database 'im.db', called conn

    "import sqlite3\n",
    "\n",
    "# Connect to the SQLite database\n",
    "conn = sqlite3.connect('im.db')\n",
    "\n",
    "# List all tables in the database\n",
    "tables = conn.execute(\"SELECT name FROM sqlite_master WHERE type='table';\").fetchall()\n",
    "print(\"Tables in the database:\")\n",
    "for table in tables:\n",
    "    print(table[0])\n"
   ]
  },
  {
   "cell_type": "code",
   "execution_count": 13,
   "metadata": {},
   "outputs": [
    {
     "name": "stdout",
     "output_type": "stream",
     "text": [
      "Columns in 'movie_basics' table:\n",
      "movie_id\n",
      "primary_title\n",
      "original_title\n",
      "start_year\n",
      "runtime_minutes\n",
      "genres\n"
     ]
    }
   ],
   "source": [
    "# Explore the schema of the 'movie_basics' table\n",
    "cursor = conn.cursor()\n",
    "cursor.execute(\"PRAGMA table_info(movie_basics);\")\n",
    "columns = cursor.fetchall()\n",
    "print(\"Columns in 'movie_basics' table:\")\n",
    "for column in columns:\n",
    "    print(column[1])\n"
   ]
  },
  {
   "cell_type": "code",
   "execution_count": 14,
   "metadata": {},
   "outputs": [
    {
     "name": "stdout",
     "output_type": "stream",
     "text": [
      "Columns in 'movie_ratings' table:\n",
      "movie_id\n",
      "averagerating\n",
      "numvotes\n"
     ]
    }
   ],
   "source": [
    "# Explore the schema of the 'movie_ratings' table\n",
    "cursor = conn.cursor()\n",
    "cursor.execute(\"PRAGMA table_info(movie_ratings);\")\n",
    "columns = cursor.fetchall()\n",
    "print(\"Columns in 'movie_ratings' table:\")\n",
    "for column in columns:\n",
    "    print(column[1])\n"
   ]
  },
  {
   "cell_type": "markdown",
   "metadata": {},
   "source": [
    "Merge movie_basics,movie_ratings and movie_gross dataframes on a common key  movie_id in order to analyse your data carefully\n"
   ]
  },
  {
   "cell_type": "code",
   "execution_count": 15,
   "metadata": {},
   "outputs": [
    {
     "data": {
      "text/html": [
       "<div>\n",
       "<style scoped>\n",
       "    .dataframe tbody tr th:only-of-type {\n",
       "        vertical-align: middle;\n",
       "    }\n",
       "\n",
       "    .dataframe tbody tr th {\n",
       "        vertical-align: top;\n",
       "    }\n",
       "\n",
       "    .dataframe thead th {\n",
       "        text-align: right;\n",
       "    }\n",
       "</style>\n",
       "<table border=\"1\" class=\"dataframe\">\n",
       "  <thead>\n",
       "    <tr style=\"text-align: right;\">\n",
       "      <th></th>\n",
       "      <th>movie_id</th>\n",
       "      <th>primary_title</th>\n",
       "      <th>original_title</th>\n",
       "      <th>start_year</th>\n",
       "      <th>runtime_minutes</th>\n",
       "      <th>genres</th>\n",
       "    </tr>\n",
       "  </thead>\n",
       "  <tbody>\n",
       "    <tr>\n",
       "      <th>0</th>\n",
       "      <td>tt0063540</td>\n",
       "      <td>Sunghursh</td>\n",
       "      <td>Sunghursh</td>\n",
       "      <td>2013</td>\n",
       "      <td>175.0</td>\n",
       "      <td>Action,Crime,Drama</td>\n",
       "    </tr>\n",
       "    <tr>\n",
       "      <th>1</th>\n",
       "      <td>tt0066787</td>\n",
       "      <td>One Day Before the Rainy Season</td>\n",
       "      <td>Ashad Ka Ek Din</td>\n",
       "      <td>2019</td>\n",
       "      <td>114.0</td>\n",
       "      <td>Biography,Drama</td>\n",
       "    </tr>\n",
       "    <tr>\n",
       "      <th>2</th>\n",
       "      <td>tt0069049</td>\n",
       "      <td>The Other Side of the Wind</td>\n",
       "      <td>The Other Side of the Wind</td>\n",
       "      <td>2018</td>\n",
       "      <td>122.0</td>\n",
       "      <td>Drama</td>\n",
       "    </tr>\n",
       "    <tr>\n",
       "      <th>3</th>\n",
       "      <td>tt0069204</td>\n",
       "      <td>Sabse Bada Sukh</td>\n",
       "      <td>Sabse Bada Sukh</td>\n",
       "      <td>2018</td>\n",
       "      <td>NaN</td>\n",
       "      <td>Comedy,Drama</td>\n",
       "    </tr>\n",
       "    <tr>\n",
       "      <th>4</th>\n",
       "      <td>tt0100275</td>\n",
       "      <td>The Wandering Soap Opera</td>\n",
       "      <td>La Telenovela Errante</td>\n",
       "      <td>2017</td>\n",
       "      <td>80.0</td>\n",
       "      <td>Comedy,Drama,Fantasy</td>\n",
       "    </tr>\n",
       "    <tr>\n",
       "      <th>...</th>\n",
       "      <td>...</td>\n",
       "      <td>...</td>\n",
       "      <td>...</td>\n",
       "      <td>...</td>\n",
       "      <td>...</td>\n",
       "      <td>...</td>\n",
       "    </tr>\n",
       "    <tr>\n",
       "      <th>146139</th>\n",
       "      <td>tt9916538</td>\n",
       "      <td>Kuambil Lagi Hatiku</td>\n",
       "      <td>Kuambil Lagi Hatiku</td>\n",
       "      <td>2019</td>\n",
       "      <td>123.0</td>\n",
       "      <td>Drama</td>\n",
       "    </tr>\n",
       "    <tr>\n",
       "      <th>146140</th>\n",
       "      <td>tt9916622</td>\n",
       "      <td>Rodolpho Teóphilo - O Legado de um Pioneiro</td>\n",
       "      <td>Rodolpho Teóphilo - O Legado de um Pioneiro</td>\n",
       "      <td>2015</td>\n",
       "      <td>NaN</td>\n",
       "      <td>Documentary</td>\n",
       "    </tr>\n",
       "    <tr>\n",
       "      <th>146141</th>\n",
       "      <td>tt9916706</td>\n",
       "      <td>Dankyavar Danka</td>\n",
       "      <td>Dankyavar Danka</td>\n",
       "      <td>2013</td>\n",
       "      <td>NaN</td>\n",
       "      <td>Comedy</td>\n",
       "    </tr>\n",
       "    <tr>\n",
       "      <th>146142</th>\n",
       "      <td>tt9916730</td>\n",
       "      <td>6 Gunn</td>\n",
       "      <td>6 Gunn</td>\n",
       "      <td>2017</td>\n",
       "      <td>116.0</td>\n",
       "      <td>None</td>\n",
       "    </tr>\n",
       "    <tr>\n",
       "      <th>146143</th>\n",
       "      <td>tt9916754</td>\n",
       "      <td>Chico Albuquerque - Revelações</td>\n",
       "      <td>Chico Albuquerque - Revelações</td>\n",
       "      <td>2013</td>\n",
       "      <td>NaN</td>\n",
       "      <td>Documentary</td>\n",
       "    </tr>\n",
       "  </tbody>\n",
       "</table>\n",
       "<p>146144 rows × 6 columns</p>\n",
       "</div>"
      ],
      "text/plain": [
       "         movie_id                                primary_title  \\\n",
       "0       tt0063540                                    Sunghursh   \n",
       "1       tt0066787              One Day Before the Rainy Season   \n",
       "2       tt0069049                   The Other Side of the Wind   \n",
       "3       tt0069204                              Sabse Bada Sukh   \n",
       "4       tt0100275                     The Wandering Soap Opera   \n",
       "...           ...                                          ...   \n",
       "146139  tt9916538                          Kuambil Lagi Hatiku   \n",
       "146140  tt9916622  Rodolpho Teóphilo - O Legado de um Pioneiro   \n",
       "146141  tt9916706                              Dankyavar Danka   \n",
       "146142  tt9916730                                       6 Gunn   \n",
       "146143  tt9916754               Chico Albuquerque - Revelações   \n",
       "\n",
       "                                     original_title  start_year  \\\n",
       "0                                         Sunghursh        2013   \n",
       "1                                   Ashad Ka Ek Din        2019   \n",
       "2                        The Other Side of the Wind        2018   \n",
       "3                                   Sabse Bada Sukh        2018   \n",
       "4                             La Telenovela Errante        2017   \n",
       "...                                             ...         ...   \n",
       "146139                          Kuambil Lagi Hatiku        2019   \n",
       "146140  Rodolpho Teóphilo - O Legado de um Pioneiro        2015   \n",
       "146141                              Dankyavar Danka        2013   \n",
       "146142                                       6 Gunn        2017   \n",
       "146143               Chico Albuquerque - Revelações        2013   \n",
       "\n",
       "        runtime_minutes                genres  \n",
       "0                 175.0    Action,Crime,Drama  \n",
       "1                 114.0       Biography,Drama  \n",
       "2                 122.0                 Drama  \n",
       "3                   NaN          Comedy,Drama  \n",
       "4                  80.0  Comedy,Drama,Fantasy  \n",
       "...                 ...                   ...  \n",
       "146139            123.0                 Drama  \n",
       "146140              NaN           Documentary  \n",
       "146141              NaN                Comedy  \n",
       "146142            116.0                  None  \n",
       "146143              NaN           Documentary  \n",
       "\n",
       "[146144 rows x 6 columns]"
      ]
     },
     "execution_count": 15,
     "metadata": {},
     "output_type": "execute_result"
    }
   ],
   "source": [
    "import pandas as pd\n",
    "\n",
    "pd.DataFrame(\n",
    "    data=cursor.execute(\"\"\"SELECT * FROM movie_basics;\"\"\").fetchall(),\n",
    "    columns=[x[0] for x in cursor.description]\n",
    ")"
   ]
  },
  {
   "cell_type": "code",
   "execution_count": 16,
   "metadata": {},
   "outputs": [
    {
     "data": {
      "text/html": [
       "<div>\n",
       "<style scoped>\n",
       "    .dataframe tbody tr th:only-of-type {\n",
       "        vertical-align: middle;\n",
       "    }\n",
       "\n",
       "    .dataframe tbody tr th {\n",
       "        vertical-align: top;\n",
       "    }\n",
       "\n",
       "    .dataframe thead th {\n",
       "        text-align: right;\n",
       "    }\n",
       "</style>\n",
       "<table border=\"1\" class=\"dataframe\">\n",
       "  <thead>\n",
       "    <tr style=\"text-align: right;\">\n",
       "      <th></th>\n",
       "      <th>movie_id</th>\n",
       "      <th>primary_title</th>\n",
       "      <th>original_title</th>\n",
       "      <th>start_year</th>\n",
       "      <th>runtime_minutes</th>\n",
       "      <th>genres</th>\n",
       "    </tr>\n",
       "  </thead>\n",
       "  <tbody>\n",
       "    <tr>\n",
       "      <th>0</th>\n",
       "      <td>tt0063540</td>\n",
       "      <td>Sunghursh</td>\n",
       "      <td>Sunghursh</td>\n",
       "      <td>2013</td>\n",
       "      <td>175.0</td>\n",
       "      <td>Action,Crime,Drama</td>\n",
       "    </tr>\n",
       "    <tr>\n",
       "      <th>1</th>\n",
       "      <td>tt0066787</td>\n",
       "      <td>One Day Before the Rainy Season</td>\n",
       "      <td>Ashad Ka Ek Din</td>\n",
       "      <td>2019</td>\n",
       "      <td>114.0</td>\n",
       "      <td>Biography,Drama</td>\n",
       "    </tr>\n",
       "    <tr>\n",
       "      <th>2</th>\n",
       "      <td>tt0069049</td>\n",
       "      <td>The Other Side of the Wind</td>\n",
       "      <td>The Other Side of the Wind</td>\n",
       "      <td>2018</td>\n",
       "      <td>122.0</td>\n",
       "      <td>Drama</td>\n",
       "    </tr>\n",
       "    <tr>\n",
       "      <th>3</th>\n",
       "      <td>tt0069204</td>\n",
       "      <td>Sabse Bada Sukh</td>\n",
       "      <td>Sabse Bada Sukh</td>\n",
       "      <td>2018</td>\n",
       "      <td>NaN</td>\n",
       "      <td>Comedy,Drama</td>\n",
       "    </tr>\n",
       "    <tr>\n",
       "      <th>4</th>\n",
       "      <td>tt0100275</td>\n",
       "      <td>The Wandering Soap Opera</td>\n",
       "      <td>La Telenovela Errante</td>\n",
       "      <td>2017</td>\n",
       "      <td>80.0</td>\n",
       "      <td>Comedy,Drama,Fantasy</td>\n",
       "    </tr>\n",
       "  </tbody>\n",
       "</table>\n",
       "</div>"
      ],
      "text/plain": [
       "    movie_id                    primary_title              original_title  \\\n",
       "0  tt0063540                        Sunghursh                   Sunghursh   \n",
       "1  tt0066787  One Day Before the Rainy Season             Ashad Ka Ek Din   \n",
       "2  tt0069049       The Other Side of the Wind  The Other Side of the Wind   \n",
       "3  tt0069204                  Sabse Bada Sukh             Sabse Bada Sukh   \n",
       "4  tt0100275         The Wandering Soap Opera       La Telenovela Errante   \n",
       "\n",
       "   start_year  runtime_minutes                genres  \n",
       "0        2013            175.0    Action,Crime,Drama  \n",
       "1        2019            114.0       Biography,Drama  \n",
       "2        2018            122.0                 Drama  \n",
       "3        2018              NaN          Comedy,Drama  \n",
       "4        2017             80.0  Comedy,Drama,Fantasy  "
      ]
     },
     "execution_count": 16,
     "metadata": {},
     "output_type": "execute_result"
    }
   ],
   "source": [
    "query = \"SELECT * FROM movie_basics\"\n",
    "df4 = pd.read_sql_query(query, conn)\n",
    "df4.head()"
   ]
  },
  {
   "cell_type": "code",
   "execution_count": 17,
   "metadata": {},
   "outputs": [
    {
     "data": {
      "text/html": [
       "<div>\n",
       "<style scoped>\n",
       "    .dataframe tbody tr th:only-of-type {\n",
       "        vertical-align: middle;\n",
       "    }\n",
       "\n",
       "    .dataframe tbody tr th {\n",
       "        vertical-align: top;\n",
       "    }\n",
       "\n",
       "    .dataframe thead th {\n",
       "        text-align: right;\n",
       "    }\n",
       "</style>\n",
       "<table border=\"1\" class=\"dataframe\">\n",
       "  <thead>\n",
       "    <tr style=\"text-align: right;\">\n",
       "      <th></th>\n",
       "      <th>movie_id</th>\n",
       "      <th>averagerating</th>\n",
       "      <th>numvotes</th>\n",
       "    </tr>\n",
       "  </thead>\n",
       "  <tbody>\n",
       "    <tr>\n",
       "      <th>0</th>\n",
       "      <td>tt10356526</td>\n",
       "      <td>8.3</td>\n",
       "      <td>31</td>\n",
       "    </tr>\n",
       "    <tr>\n",
       "      <th>1</th>\n",
       "      <td>tt10384606</td>\n",
       "      <td>8.9</td>\n",
       "      <td>559</td>\n",
       "    </tr>\n",
       "    <tr>\n",
       "      <th>2</th>\n",
       "      <td>tt1042974</td>\n",
       "      <td>6.4</td>\n",
       "      <td>20</td>\n",
       "    </tr>\n",
       "    <tr>\n",
       "      <th>3</th>\n",
       "      <td>tt1043726</td>\n",
       "      <td>4.2</td>\n",
       "      <td>50352</td>\n",
       "    </tr>\n",
       "    <tr>\n",
       "      <th>4</th>\n",
       "      <td>tt1060240</td>\n",
       "      <td>6.5</td>\n",
       "      <td>21</td>\n",
       "    </tr>\n",
       "  </tbody>\n",
       "</table>\n",
       "</div>"
      ],
      "text/plain": [
       "     movie_id  averagerating  numvotes\n",
       "0  tt10356526            8.3        31\n",
       "1  tt10384606            8.9       559\n",
       "2   tt1042974            6.4        20\n",
       "3   tt1043726            4.2     50352\n",
       "4   tt1060240            6.5        21"
      ]
     },
     "execution_count": 17,
     "metadata": {},
     "output_type": "execute_result"
    }
   ],
   "source": [
    "query = \"SELECT * FROM movie_ratings\"\n",
    "df5 = pd.read_sql_query(query, conn)\n",
    "df5.head()"
   ]
  },
  {
   "cell_type": "code",
   "execution_count": null,
   "metadata": {},
   "outputs": [],
   "source": []
  },
  {
   "cell_type": "markdown",
   "metadata": {},
   "source": [
    "#### 2. DATA PREPARATION "
   ]
  },
  {
   "cell_type": "markdown",
   "metadata": {},
   "source": [
    "In data preparation we try to join or merge different dataframes in order to get a single dataframe that we can work with in order for us to perform analysis"
   ]
  },
  {
   "cell_type": "code",
   "execution_count": 18,
   "metadata": {},
   "outputs": [],
   "source": [
    "import pandas as pd\n",
    "# Combine the dataframes using pd.concat() based on movie_id\n",
    "combined_df = pd.concat([df4, df5, df1], axis=1, join='inner')\n"
   ]
  },
  {
   "cell_type": "code",
   "execution_count": 19,
   "metadata": {
    "scrolled": true
   },
   "outputs": [
    {
     "data": {
      "text/html": [
       "<div>\n",
       "<style scoped>\n",
       "    .dataframe tbody tr th:only-of-type {\n",
       "        vertical-align: middle;\n",
       "    }\n",
       "\n",
       "    .dataframe tbody tr th {\n",
       "        vertical-align: top;\n",
       "    }\n",
       "\n",
       "    .dataframe thead th {\n",
       "        text-align: right;\n",
       "    }\n",
       "</style>\n",
       "<table border=\"1\" class=\"dataframe\">\n",
       "  <thead>\n",
       "    <tr style=\"text-align: right;\">\n",
       "      <th></th>\n",
       "      <th>movie_id</th>\n",
       "      <th>primary_title</th>\n",
       "      <th>original_title</th>\n",
       "      <th>start_year</th>\n",
       "      <th>runtime_minutes</th>\n",
       "      <th>genres</th>\n",
       "      <th>averagerating</th>\n",
       "      <th>numvotes</th>\n",
       "      <th>title</th>\n",
       "      <th>studio</th>\n",
       "      <th>domestic_gross</th>\n",
       "      <th>foreign_gross</th>\n",
       "      <th>year</th>\n",
       "    </tr>\n",
       "  </thead>\n",
       "  <tbody>\n",
       "    <tr>\n",
       "      <th>0</th>\n",
       "      <td>tt0063540</td>\n",
       "      <td>Sunghursh</td>\n",
       "      <td>Sunghursh</td>\n",
       "      <td>2013</td>\n",
       "      <td>175.0</td>\n",
       "      <td>Action,Crime,Drama</td>\n",
       "      <td>8.3</td>\n",
       "      <td>31</td>\n",
       "      <td>Toy Story 3</td>\n",
       "      <td>BV</td>\n",
       "      <td>415000000.0</td>\n",
       "      <td>652000000</td>\n",
       "      <td>2010</td>\n",
       "    </tr>\n",
       "    <tr>\n",
       "      <th>1</th>\n",
       "      <td>tt0066787</td>\n",
       "      <td>One Day Before the Rainy Season</td>\n",
       "      <td>Ashad Ka Ek Din</td>\n",
       "      <td>2019</td>\n",
       "      <td>114.0</td>\n",
       "      <td>Biography,Drama</td>\n",
       "      <td>8.9</td>\n",
       "      <td>559</td>\n",
       "      <td>Alice in Wonderland (2010)</td>\n",
       "      <td>BV</td>\n",
       "      <td>334200000.0</td>\n",
       "      <td>691300000</td>\n",
       "      <td>2010</td>\n",
       "    </tr>\n",
       "    <tr>\n",
       "      <th>2</th>\n",
       "      <td>tt0069049</td>\n",
       "      <td>The Other Side of the Wind</td>\n",
       "      <td>The Other Side of the Wind</td>\n",
       "      <td>2018</td>\n",
       "      <td>122.0</td>\n",
       "      <td>Drama</td>\n",
       "      <td>6.4</td>\n",
       "      <td>20</td>\n",
       "      <td>Harry Potter and the Deathly Hallows Part 1</td>\n",
       "      <td>WB</td>\n",
       "      <td>296000000.0</td>\n",
       "      <td>664300000</td>\n",
       "      <td>2010</td>\n",
       "    </tr>\n",
       "    <tr>\n",
       "      <th>3</th>\n",
       "      <td>tt0069204</td>\n",
       "      <td>Sabse Bada Sukh</td>\n",
       "      <td>Sabse Bada Sukh</td>\n",
       "      <td>2018</td>\n",
       "      <td>NaN</td>\n",
       "      <td>Comedy,Drama</td>\n",
       "      <td>4.2</td>\n",
       "      <td>50352</td>\n",
       "      <td>Inception</td>\n",
       "      <td>WB</td>\n",
       "      <td>292600000.0</td>\n",
       "      <td>535700000</td>\n",
       "      <td>2010</td>\n",
       "    </tr>\n",
       "    <tr>\n",
       "      <th>4</th>\n",
       "      <td>tt0100275</td>\n",
       "      <td>The Wandering Soap Opera</td>\n",
       "      <td>La Telenovela Errante</td>\n",
       "      <td>2017</td>\n",
       "      <td>80.0</td>\n",
       "      <td>Comedy,Drama,Fantasy</td>\n",
       "      <td>6.5</td>\n",
       "      <td>21</td>\n",
       "      <td>Shrek Forever After</td>\n",
       "      <td>P/DW</td>\n",
       "      <td>238700000.0</td>\n",
       "      <td>513900000</td>\n",
       "      <td>2010</td>\n",
       "    </tr>\n",
       "  </tbody>\n",
       "</table>\n",
       "</div>"
      ],
      "text/plain": [
       "    movie_id                    primary_title              original_title  \\\n",
       "0  tt0063540                        Sunghursh                   Sunghursh   \n",
       "1  tt0066787  One Day Before the Rainy Season             Ashad Ka Ek Din   \n",
       "2  tt0069049       The Other Side of the Wind  The Other Side of the Wind   \n",
       "3  tt0069204                  Sabse Bada Sukh             Sabse Bada Sukh   \n",
       "4  tt0100275         The Wandering Soap Opera       La Telenovela Errante   \n",
       "\n",
       "   start_year  runtime_minutes                genres  averagerating  numvotes  \\\n",
       "0        2013            175.0    Action,Crime,Drama            8.3        31   \n",
       "1        2019            114.0       Biography,Drama            8.9       559   \n",
       "2        2018            122.0                 Drama            6.4        20   \n",
       "3        2018              NaN          Comedy,Drama            4.2     50352   \n",
       "4        2017             80.0  Comedy,Drama,Fantasy            6.5        21   \n",
       "\n",
       "                                         title studio  domestic_gross  \\\n",
       "0                                  Toy Story 3     BV     415000000.0   \n",
       "1                   Alice in Wonderland (2010)     BV     334200000.0   \n",
       "2  Harry Potter and the Deathly Hallows Part 1     WB     296000000.0   \n",
       "3                                    Inception     WB     292600000.0   \n",
       "4                          Shrek Forever After   P/DW     238700000.0   \n",
       "\n",
       "  foreign_gross  year  \n",
       "0     652000000  2010  \n",
       "1     691300000  2010  \n",
       "2     664300000  2010  \n",
       "3     535700000  2010  \n",
       "4     513900000  2010  "
      ]
     },
     "execution_count": 19,
     "metadata": {},
     "output_type": "execute_result"
    }
   ],
   "source": [
    " #To remove duplicate columns (movie_id in this case) from the merged dataframe\n",
    "combined_df2 = combined_df.loc[:, ~combined_df.columns.duplicated()]\n",
    "\n",
    "# Display the first few rows of the combined dataframe\n",
    "movies_reviews_df = combined_df2\n",
    "movies_reviews_df.head()\n"
   ]
  },
  {
   "cell_type": "markdown",
   "metadata": {},
   "source": [
    "### 3. Data Understanding"
   ]
  },
  {
   "cell_type": "code",
   "execution_count": 20,
   "metadata": {},
   "outputs": [
    {
     "data": {
      "text/html": [
       "<div>\n",
       "<style scoped>\n",
       "    .dataframe tbody tr th:only-of-type {\n",
       "        vertical-align: middle;\n",
       "    }\n",
       "\n",
       "    .dataframe tbody tr th {\n",
       "        vertical-align: top;\n",
       "    }\n",
       "\n",
       "    .dataframe thead th {\n",
       "        text-align: right;\n",
       "    }\n",
       "</style>\n",
       "<table border=\"1\" class=\"dataframe\">\n",
       "  <thead>\n",
       "    <tr style=\"text-align: right;\">\n",
       "      <th></th>\n",
       "      <th>movie_id</th>\n",
       "      <th>primary_title</th>\n",
       "      <th>original_title</th>\n",
       "      <th>start_year</th>\n",
       "      <th>runtime_minutes</th>\n",
       "      <th>genres</th>\n",
       "      <th>averagerating</th>\n",
       "      <th>numvotes</th>\n",
       "      <th>title</th>\n",
       "      <th>studio</th>\n",
       "      <th>domestic_gross</th>\n",
       "      <th>foreign_gross</th>\n",
       "      <th>year</th>\n",
       "    </tr>\n",
       "  </thead>\n",
       "  <tbody>\n",
       "    <tr>\n",
       "      <th>0</th>\n",
       "      <td>tt0063540</td>\n",
       "      <td>Sunghursh</td>\n",
       "      <td>Sunghursh</td>\n",
       "      <td>2013</td>\n",
       "      <td>175.0</td>\n",
       "      <td>Action,Crime,Drama</td>\n",
       "      <td>8.3</td>\n",
       "      <td>31</td>\n",
       "      <td>Toy Story 3</td>\n",
       "      <td>BV</td>\n",
       "      <td>415000000.0</td>\n",
       "      <td>652000000</td>\n",
       "      <td>2010</td>\n",
       "    </tr>\n",
       "    <tr>\n",
       "      <th>1</th>\n",
       "      <td>tt0066787</td>\n",
       "      <td>One Day Before the Rainy Season</td>\n",
       "      <td>Ashad Ka Ek Din</td>\n",
       "      <td>2019</td>\n",
       "      <td>114.0</td>\n",
       "      <td>Biography,Drama</td>\n",
       "      <td>8.9</td>\n",
       "      <td>559</td>\n",
       "      <td>Alice in Wonderland (2010)</td>\n",
       "      <td>BV</td>\n",
       "      <td>334200000.0</td>\n",
       "      <td>691300000</td>\n",
       "      <td>2010</td>\n",
       "    </tr>\n",
       "    <tr>\n",
       "      <th>2</th>\n",
       "      <td>tt0069049</td>\n",
       "      <td>The Other Side of the Wind</td>\n",
       "      <td>The Other Side of the Wind</td>\n",
       "      <td>2018</td>\n",
       "      <td>122.0</td>\n",
       "      <td>Drama</td>\n",
       "      <td>6.4</td>\n",
       "      <td>20</td>\n",
       "      <td>Harry Potter and the Deathly Hallows Part 1</td>\n",
       "      <td>WB</td>\n",
       "      <td>296000000.0</td>\n",
       "      <td>664300000</td>\n",
       "      <td>2010</td>\n",
       "    </tr>\n",
       "    <tr>\n",
       "      <th>3</th>\n",
       "      <td>tt0069204</td>\n",
       "      <td>Sabse Bada Sukh</td>\n",
       "      <td>Sabse Bada Sukh</td>\n",
       "      <td>2018</td>\n",
       "      <td>NaN</td>\n",
       "      <td>Comedy,Drama</td>\n",
       "      <td>4.2</td>\n",
       "      <td>50352</td>\n",
       "      <td>Inception</td>\n",
       "      <td>WB</td>\n",
       "      <td>292600000.0</td>\n",
       "      <td>535700000</td>\n",
       "      <td>2010</td>\n",
       "    </tr>\n",
       "    <tr>\n",
       "      <th>4</th>\n",
       "      <td>tt0100275</td>\n",
       "      <td>The Wandering Soap Opera</td>\n",
       "      <td>La Telenovela Errante</td>\n",
       "      <td>2017</td>\n",
       "      <td>80.0</td>\n",
       "      <td>Comedy,Drama,Fantasy</td>\n",
       "      <td>6.5</td>\n",
       "      <td>21</td>\n",
       "      <td>Shrek Forever After</td>\n",
       "      <td>P/DW</td>\n",
       "      <td>238700000.0</td>\n",
       "      <td>513900000</td>\n",
       "      <td>2010</td>\n",
       "    </tr>\n",
       "  </tbody>\n",
       "</table>\n",
       "</div>"
      ],
      "text/plain": [
       "    movie_id                    primary_title              original_title  \\\n",
       "0  tt0063540                        Sunghursh                   Sunghursh   \n",
       "1  tt0066787  One Day Before the Rainy Season             Ashad Ka Ek Din   \n",
       "2  tt0069049       The Other Side of the Wind  The Other Side of the Wind   \n",
       "3  tt0069204                  Sabse Bada Sukh             Sabse Bada Sukh   \n",
       "4  tt0100275         The Wandering Soap Opera       La Telenovela Errante   \n",
       "\n",
       "   start_year  runtime_minutes                genres  averagerating  numvotes  \\\n",
       "0        2013            175.0    Action,Crime,Drama            8.3        31   \n",
       "1        2019            114.0       Biography,Drama            8.9       559   \n",
       "2        2018            122.0                 Drama            6.4        20   \n",
       "3        2018              NaN          Comedy,Drama            4.2     50352   \n",
       "4        2017             80.0  Comedy,Drama,Fantasy            6.5        21   \n",
       "\n",
       "                                         title studio  domestic_gross  \\\n",
       "0                                  Toy Story 3     BV     415000000.0   \n",
       "1                   Alice in Wonderland (2010)     BV     334200000.0   \n",
       "2  Harry Potter and the Deathly Hallows Part 1     WB     296000000.0   \n",
       "3                                    Inception     WB     292600000.0   \n",
       "4                          Shrek Forever After   P/DW     238700000.0   \n",
       "\n",
       "  foreign_gross  year  \n",
       "0     652000000  2010  \n",
       "1     691300000  2010  \n",
       "2     664300000  2010  \n",
       "3     535700000  2010  \n",
       "4     513900000  2010  "
      ]
     },
     "execution_count": 20,
     "metadata": {},
     "output_type": "execute_result"
    }
   ],
   "source": [
    "#checking top of the dataset\n",
    "movies_reviews_df.head()"
   ]
  },
  {
   "cell_type": "code",
   "execution_count": 21,
   "metadata": {
    "scrolled": true
   },
   "outputs": [
    {
     "data": {
      "text/html": [
       "<div>\n",
       "<style scoped>\n",
       "    .dataframe tbody tr th:only-of-type {\n",
       "        vertical-align: middle;\n",
       "    }\n",
       "\n",
       "    .dataframe tbody tr th {\n",
       "        vertical-align: top;\n",
       "    }\n",
       "\n",
       "    .dataframe thead th {\n",
       "        text-align: right;\n",
       "    }\n",
       "</style>\n",
       "<table border=\"1\" class=\"dataframe\">\n",
       "  <thead>\n",
       "    <tr style=\"text-align: right;\">\n",
       "      <th></th>\n",
       "      <th>movie_id</th>\n",
       "      <th>primary_title</th>\n",
       "      <th>original_title</th>\n",
       "      <th>start_year</th>\n",
       "      <th>runtime_minutes</th>\n",
       "      <th>genres</th>\n",
       "      <th>averagerating</th>\n",
       "      <th>numvotes</th>\n",
       "      <th>title</th>\n",
       "      <th>studio</th>\n",
       "      <th>domestic_gross</th>\n",
       "      <th>foreign_gross</th>\n",
       "      <th>year</th>\n",
       "    </tr>\n",
       "  </thead>\n",
       "  <tbody>\n",
       "    <tr>\n",
       "      <th>3382</th>\n",
       "      <td>tt10332104</td>\n",
       "      <td>Zena</td>\n",
       "      <td>Zena</td>\n",
       "      <td>2019</td>\n",
       "      <td>NaN</td>\n",
       "      <td>None</td>\n",
       "      <td>6.8</td>\n",
       "      <td>19</td>\n",
       "      <td>The Quake</td>\n",
       "      <td>Magn.</td>\n",
       "      <td>6200.0</td>\n",
       "      <td>NaN</td>\n",
       "      <td>2018</td>\n",
       "    </tr>\n",
       "    <tr>\n",
       "      <th>3383</th>\n",
       "      <td>tt10332120</td>\n",
       "      <td>Much Ado About Nothing</td>\n",
       "      <td>Much Ado About Nothing</td>\n",
       "      <td>2019</td>\n",
       "      <td>130.0</td>\n",
       "      <td>Drama</td>\n",
       "      <td>5.3</td>\n",
       "      <td>15</td>\n",
       "      <td>Edward II (2018 re-release)</td>\n",
       "      <td>FM</td>\n",
       "      <td>4800.0</td>\n",
       "      <td>NaN</td>\n",
       "      <td>2018</td>\n",
       "    </tr>\n",
       "    <tr>\n",
       "      <th>3384</th>\n",
       "      <td>tt10332130</td>\n",
       "      <td>Iron Mom</td>\n",
       "      <td>Iron Mom</td>\n",
       "      <td>2019</td>\n",
       "      <td>NaN</td>\n",
       "      <td>Action,Thriller</td>\n",
       "      <td>7.8</td>\n",
       "      <td>17</td>\n",
       "      <td>El Pacto</td>\n",
       "      <td>Sony</td>\n",
       "      <td>2500.0</td>\n",
       "      <td>NaN</td>\n",
       "      <td>2018</td>\n",
       "    </tr>\n",
       "    <tr>\n",
       "      <th>3385</th>\n",
       "      <td>tt10332174</td>\n",
       "      <td>Nothing</td>\n",
       "      <td>Nothing</td>\n",
       "      <td>2019</td>\n",
       "      <td>75.0</td>\n",
       "      <td>Sci-Fi</td>\n",
       "      <td>3.0</td>\n",
       "      <td>61</td>\n",
       "      <td>The Swan</td>\n",
       "      <td>Synergetic</td>\n",
       "      <td>2400.0</td>\n",
       "      <td>NaN</td>\n",
       "      <td>2018</td>\n",
       "    </tr>\n",
       "    <tr>\n",
       "      <th>3386</th>\n",
       "      <td>tt10332248</td>\n",
       "      <td>La Médium del Venerable</td>\n",
       "      <td>La Médium del Venerable</td>\n",
       "      <td>2019</td>\n",
       "      <td>NaN</td>\n",
       "      <td>None</td>\n",
       "      <td>5.9</td>\n",
       "      <td>8285</td>\n",
       "      <td>An Actor Prepares</td>\n",
       "      <td>Grav.</td>\n",
       "      <td>1700.0</td>\n",
       "      <td>NaN</td>\n",
       "      <td>2018</td>\n",
       "    </tr>\n",
       "  </tbody>\n",
       "</table>\n",
       "</div>"
      ],
      "text/plain": [
       "        movie_id            primary_title           original_title  \\\n",
       "3382  tt10332104                     Zena                     Zena   \n",
       "3383  tt10332120   Much Ado About Nothing   Much Ado About Nothing   \n",
       "3384  tt10332130                 Iron Mom                 Iron Mom   \n",
       "3385  tt10332174                  Nothing                  Nothing   \n",
       "3386  tt10332248  La Médium del Venerable  La Médium del Venerable   \n",
       "\n",
       "      start_year  runtime_minutes           genres  averagerating  numvotes  \\\n",
       "3382        2019              NaN             None            6.8        19   \n",
       "3383        2019            130.0            Drama            5.3        15   \n",
       "3384        2019              NaN  Action,Thriller            7.8        17   \n",
       "3385        2019             75.0           Sci-Fi            3.0        61   \n",
       "3386        2019              NaN             None            5.9      8285   \n",
       "\n",
       "                            title      studio  domestic_gross foreign_gross  \\\n",
       "3382                    The Quake       Magn.          6200.0           NaN   \n",
       "3383  Edward II (2018 re-release)          FM          4800.0           NaN   \n",
       "3384                     El Pacto        Sony          2500.0           NaN   \n",
       "3385                     The Swan  Synergetic          2400.0           NaN   \n",
       "3386            An Actor Prepares       Grav.          1700.0           NaN   \n",
       "\n",
       "      year  \n",
       "3382  2018  \n",
       "3383  2018  \n",
       "3384  2018  \n",
       "3385  2018  \n",
       "3386  2018  "
      ]
     },
     "execution_count": 21,
     "metadata": {},
     "output_type": "execute_result"
    }
   ],
   "source": [
    "#checking the bottom of the dataset\n",
    "movies_reviews_df.tail()"
   ]
  },
  {
   "cell_type": "code",
   "execution_count": 22,
   "metadata": {},
   "outputs": [
    {
     "data": {
      "text/plain": [
       "(3387, 13)"
      ]
     },
     "execution_count": 22,
     "metadata": {},
     "output_type": "execute_result"
    }
   ],
   "source": [
    "movies_reviews_df.shape"
   ]
  },
  {
   "cell_type": "code",
   "execution_count": 23,
   "metadata": {},
   "outputs": [
    {
     "name": "stdout",
     "output_type": "stream",
     "text": [
      "<class 'pandas.core.frame.DataFrame'>\n",
      "RangeIndex: 3387 entries, 0 to 3386\n",
      "Data columns (total 13 columns):\n",
      " #   Column           Non-Null Count  Dtype  \n",
      "---  ------           --------------  -----  \n",
      " 0   movie_id         3387 non-null   object \n",
      " 1   primary_title    3387 non-null   object \n",
      " 2   original_title   3387 non-null   object \n",
      " 3   start_year       3387 non-null   int64  \n",
      " 4   runtime_minutes  1968 non-null   float64\n",
      " 5   genres           3210 non-null   object \n",
      " 6   averagerating    3387 non-null   float64\n",
      " 7   numvotes         3387 non-null   int64  \n",
      " 8   title            3387 non-null   object \n",
      " 9   studio           3382 non-null   object \n",
      " 10  domestic_gross   3359 non-null   float64\n",
      " 11  foreign_gross    2037 non-null   object \n",
      " 12  year             3387 non-null   int64  \n",
      "dtypes: float64(3), int64(3), object(7)\n",
      "memory usage: 344.1+ KB\n"
     ]
    }
   ],
   "source": [
    "movies_reviews_df.info()"
   ]
  },
  {
   "cell_type": "code",
   "execution_count": 24,
   "metadata": {},
   "outputs": [
    {
     "data": {
      "text/plain": [
       "movie_id           3387\n",
       "primary_title      3387\n",
       "original_title     3387\n",
       "start_year         3387\n",
       "runtime_minutes    1968\n",
       "genres             3210\n",
       "averagerating      3387\n",
       "numvotes           3387\n",
       "title              3387\n",
       "studio             3382\n",
       "domestic_gross     3359\n",
       "foreign_gross      2037\n",
       "year               3387\n",
       "dtype: int64"
      ]
     },
     "execution_count": 24,
     "metadata": {},
     "output_type": "execute_result"
    }
   ],
   "source": [
    "#checking number of entries in each column\n",
    "movies_reviews_df.count()"
   ]
  },
  {
   "cell_type": "code",
   "execution_count": 25,
   "metadata": {},
   "outputs": [
    {
     "data": {
      "text/plain": [
       "Index(['movie_id', 'primary_title', 'original_title', 'start_year',\n",
       "       'runtime_minutes', 'genres', 'averagerating', 'numvotes', 'title',\n",
       "       'studio', 'domestic_gross', 'foreign_gross', 'year'],\n",
       "      dtype='object')"
      ]
     },
     "execution_count": 25,
     "metadata": {},
     "output_type": "execute_result"
    }
   ],
   "source": [
    "movies_reviews_df.columns"
   ]
  },
  {
   "cell_type": "code",
   "execution_count": null,
   "metadata": {},
   "outputs": [],
   "source": []
  },
  {
   "cell_type": "markdown",
   "metadata": {},
   "source": [
    "  #### 3.1 Data Cleaning"
   ]
  },
  {
   "cell_type": "markdown",
   "metadata": {},
   "source": [
    "Checking null values"
   ]
  },
  {
   "cell_type": "code",
   "execution_count": 26,
   "metadata": {},
   "outputs": [
    {
     "data": {
      "text/plain": [
       "True"
      ]
     },
     "execution_count": 26,
     "metadata": {},
     "output_type": "execute_result"
    }
   ],
   "source": [
    "movies_reviews_df.isnull().values.any()"
   ]
  },
  {
   "cell_type": "code",
   "execution_count": 27,
   "metadata": {},
   "outputs": [
    {
     "data": {
      "text/plain": [
       "movie_id              0\n",
       "primary_title         0\n",
       "original_title        0\n",
       "start_year            0\n",
       "runtime_minutes    1419\n",
       "genres              177\n",
       "averagerating         0\n",
       "numvotes              0\n",
       "title                 0\n",
       "studio                5\n",
       "domestic_gross       28\n",
       "foreign_gross      1350\n",
       "year                  0\n",
       "dtype: int64"
      ]
     },
     "execution_count": 27,
     "metadata": {},
     "output_type": "execute_result"
    }
   ],
   "source": [
    "movies_reviews_df.isnull().sum()"
   ]
  },
  {
   "cell_type": "code",
   "execution_count": 28,
   "metadata": {},
   "outputs": [
    {
     "data": {
      "text/plain": [
       "movie_id              0\n",
       "primary_title         0\n",
       "original_title        0\n",
       "start_year            0\n",
       "runtime_minutes    1419\n",
       "genres              177\n",
       "averagerating         0\n",
       "numvotes              0\n",
       "title                 0\n",
       "studio                5\n",
       "domestic_gross       28\n",
       "foreign_gross      1350\n",
       "year                  0\n",
       "dtype: int64"
      ]
     },
     "execution_count": 28,
     "metadata": {},
     "output_type": "execute_result"
    }
   ],
   "source": [
    "# Step 1: Calculate the total number of null values\n",
    "null_count = movies_reviews_df.isnull().sum()\n",
    "null_count"
   ]
  },
  {
   "cell_type": "code",
   "execution_count": 29,
   "metadata": {},
   "outputs": [
    {
     "data": {
      "text/plain": [
       "3387"
      ]
     },
     "execution_count": 29,
     "metadata": {},
     "output_type": "execute_result"
    }
   ],
   "source": [
    "# Step 2: Calculate the total number of values (non-null)\n",
    "total_count = movies_reviews_df.shape[0]\n",
    "total_count"
   ]
  },
  {
   "cell_type": "code",
   "execution_count": 30,
   "metadata": {},
   "outputs": [
    {
     "name": "stdout",
     "output_type": "stream",
     "text": [
      "movie_id            0.000000\n",
      "primary_title       0.000000\n",
      "original_title      0.000000\n",
      "start_year          0.000000\n",
      "runtime_minutes    41.895483\n",
      "genres              5.225864\n",
      "averagerating       0.000000\n",
      "numvotes            0.000000\n",
      "title               0.000000\n",
      "studio              0.147623\n",
      "domestic_gross      0.826690\n",
      "foreign_gross      39.858282\n",
      "year                0.000000\n",
      "dtype: float64\n"
     ]
    }
   ],
   "source": [
    "\n",
    "# Step 3:Calculate the percentage of nulls for each column\n",
    "null_percentage = (null_count / total_count) * 100\n",
    "\n",
    "print(null_percentage)"
   ]
  },
  {
   "cell_type": "markdown",
   "metadata": {},
   "source": [
    "The above shows that there is a small percantage of null values, so we can do away with them."
   ]
  },
  {
   "cell_type": "code",
   "execution_count": 32,
   "metadata": {},
   "outputs": [
    {
     "data": {
      "text/plain": [
       "(1224, 13)"
      ]
     },
     "execution_count": 32,
     "metadata": {},
     "output_type": "execute_result"
    }
   ],
   "source": [
    "movies_reviews_df= movies_reviews_df.dropna()\n",
    "movies_reviews_df.shape"
   ]
  },
  {
   "cell_type": "code",
   "execution_count": 33,
   "metadata": {},
   "outputs": [
    {
     "data": {
      "text/plain": [
       "movie_id           0\n",
       "primary_title      0\n",
       "original_title     0\n",
       "start_year         0\n",
       "runtime_minutes    0\n",
       "genres             0\n",
       "averagerating      0\n",
       "numvotes           0\n",
       "title              0\n",
       "studio             0\n",
       "domestic_gross     0\n",
       "foreign_gross      0\n",
       "year               0\n",
       "dtype: int64"
      ]
     },
     "execution_count": 33,
     "metadata": {},
     "output_type": "execute_result"
    }
   ],
   "source": [
    "movies_reviews_df.isnull().sum()"
   ]
  },
  {
   "cell_type": "markdown",
   "metadata": {},
   "source": [
    "  ### 3.2 Checking Duplicates"
   ]
  },
  {
   "cell_type": "code",
   "execution_count": 34,
   "metadata": {},
   "outputs": [
    {
     "data": {
      "text/plain": [
       "0"
      ]
     },
     "execution_count": 34,
     "metadata": {},
     "output_type": "execute_result"
    }
   ],
   "source": [
    "movies_reviews_df.duplicated().sum()"
   ]
  },
  {
   "cell_type": "code",
   "execution_count": 35,
   "metadata": {},
   "outputs": [
    {
     "data": {
      "text/html": [
       "<div>\n",
       "<style scoped>\n",
       "    .dataframe tbody tr th:only-of-type {\n",
       "        vertical-align: middle;\n",
       "    }\n",
       "\n",
       "    .dataframe tbody tr th {\n",
       "        vertical-align: top;\n",
       "    }\n",
       "\n",
       "    .dataframe thead th {\n",
       "        text-align: right;\n",
       "    }\n",
       "</style>\n",
       "<table border=\"1\" class=\"dataframe\">\n",
       "  <thead>\n",
       "    <tr style=\"text-align: right;\">\n",
       "      <th></th>\n",
       "      <th>start_year</th>\n",
       "      <th>runtime_minutes</th>\n",
       "      <th>averagerating</th>\n",
       "      <th>numvotes</th>\n",
       "      <th>domestic_gross</th>\n",
       "      <th>year</th>\n",
       "    </tr>\n",
       "  </thead>\n",
       "  <tbody>\n",
       "    <tr>\n",
       "      <th>count</th>\n",
       "      <td>1224.000000</td>\n",
       "      <td>1224.000000</td>\n",
       "      <td>1224.000000</td>\n",
       "      <td>1224.000000</td>\n",
       "      <td>1.224000e+03</td>\n",
       "      <td>1224.000000</td>\n",
       "    </tr>\n",
       "    <tr>\n",
       "      <th>mean</th>\n",
       "      <td>2015.581699</td>\n",
       "      <td>90.775327</td>\n",
       "      <td>6.295425</td>\n",
       "      <td>7453.663399</td>\n",
       "      <td>4.520187e+07</td>\n",
       "      <td>2012.910131</td>\n",
       "    </tr>\n",
       "    <tr>\n",
       "      <th>std</th>\n",
       "      <td>3.613800</td>\n",
       "      <td>28.339451</td>\n",
       "      <td>1.500312</td>\n",
       "      <td>50343.149634</td>\n",
       "      <td>8.253719e+07</td>\n",
       "      <td>2.497769</td>\n",
       "    </tr>\n",
       "    <tr>\n",
       "      <th>min</th>\n",
       "      <td>2010.000000</td>\n",
       "      <td>2.000000</td>\n",
       "      <td>1.000000</td>\n",
       "      <td>5.000000</td>\n",
       "      <td>4.000000e+02</td>\n",
       "      <td>2010.000000</td>\n",
       "    </tr>\n",
       "    <tr>\n",
       "      <th>25%</th>\n",
       "      <td>2012.000000</td>\n",
       "      <td>76.000000</td>\n",
       "      <td>5.400000</td>\n",
       "      <td>17.000000</td>\n",
       "      <td>5.177500e+05</td>\n",
       "      <td>2011.000000</td>\n",
       "    </tr>\n",
       "    <tr>\n",
       "      <th>50%</th>\n",
       "      <td>2017.000000</td>\n",
       "      <td>90.000000</td>\n",
       "      <td>6.500000</td>\n",
       "      <td>67.500000</td>\n",
       "      <td>1.340000e+07</td>\n",
       "      <td>2012.000000</td>\n",
       "    </tr>\n",
       "    <tr>\n",
       "      <th>75%</th>\n",
       "      <td>2019.000000</td>\n",
       "      <td>105.000000</td>\n",
       "      <td>7.300000</td>\n",
       "      <td>408.500000</td>\n",
       "      <td>5.480000e+07</td>\n",
       "      <td>2015.000000</td>\n",
       "    </tr>\n",
       "    <tr>\n",
       "      <th>max</th>\n",
       "      <td>2022.000000</td>\n",
       "      <td>288.000000</td>\n",
       "      <td>9.700000</td>\n",
       "      <td>780910.000000</td>\n",
       "      <td>9.367000e+08</td>\n",
       "      <td>2018.000000</td>\n",
       "    </tr>\n",
       "  </tbody>\n",
       "</table>\n",
       "</div>"
      ],
      "text/plain": [
       "        start_year  runtime_minutes  averagerating       numvotes  \\\n",
       "count  1224.000000      1224.000000    1224.000000    1224.000000   \n",
       "mean   2015.581699        90.775327       6.295425    7453.663399   \n",
       "std       3.613800        28.339451       1.500312   50343.149634   \n",
       "min    2010.000000         2.000000       1.000000       5.000000   \n",
       "25%    2012.000000        76.000000       5.400000      17.000000   \n",
       "50%    2017.000000        90.000000       6.500000      67.500000   \n",
       "75%    2019.000000       105.000000       7.300000     408.500000   \n",
       "max    2022.000000       288.000000       9.700000  780910.000000   \n",
       "\n",
       "       domestic_gross         year  \n",
       "count    1.224000e+03  1224.000000  \n",
       "mean     4.520187e+07  2012.910131  \n",
       "std      8.253719e+07     2.497769  \n",
       "min      4.000000e+02  2010.000000  \n",
       "25%      5.177500e+05  2011.000000  \n",
       "50%      1.340000e+07  2012.000000  \n",
       "75%      5.480000e+07  2015.000000  \n",
       "max      9.367000e+08  2018.000000  "
      ]
     },
     "execution_count": 35,
     "metadata": {},
     "output_type": "execute_result"
    }
   ],
   "source": [
    "movies_reviews_df.describe()"
   ]
  },
  {
   "cell_type": "code",
   "execution_count": null,
   "metadata": {},
   "outputs": [],
   "source": []
  },
  {
   "cell_type": "markdown",
   "metadata": {},
   "source": [
    "  ### 3.2 Checking for data inconsistency"
   ]
  },
  {
   "cell_type": "markdown",
   "metadata": {},
   "source": [
    "Based on the descriptive statistics you've provided for the df20 DataFrame, there are several potential data inconsistencies that can be identified, along with possible solutions:\n",
    "\n",
    "Minimum runtime_minutes:\n",
    "\n",
    "Issue: The minimum value for runtime_minutes is 2.0, which seems unusually short for a movie.\n",
    "Solution: Examine the records with very short runtimes to ensure they are accurate. You may need to remove or correct them if they are erroneous.\n",
    "Minimum averagerating:\n",
    "\n",
    "Issue: The minimum value for averagerating is 1.0, which is an exceptionally low rating for a movie.\n",
    "Solution: Examine the records with very low ratings to ensure they are accurate. You may need to remove or correct them if they are erroneous.\n"
   ]
  },
  {
   "cell_type": "code",
   "execution_count": 36,
   "metadata": {},
   "outputs": [
    {
     "name": "stdout",
     "output_type": "stream",
     "text": [
      "Records with Short Runtimes:\n",
      "        movie_id                         primary_title  \\\n",
      "2527  tt10260750             Dream With Your Eyes Open   \n",
      "2542  tt10262568                         Under the Bed   \n",
      "2556  tt10263670                          The 49th Day   \n",
      "2801  tt10291764  The Arts of Subversion: Tokyo, Japan   \n",
      "3116  tt10310534     Occupying Wall Street for Pokémon   \n",
      "3188  tt10317922                               Dominic   \n",
      "\n",
      "                            original_title  start_year  runtime_minutes  \\\n",
      "2527             Dream With Your Eyes Open        2016              7.0   \n",
      "2542                         Under the Bed        2019              7.0   \n",
      "2556                          The 49th Day        2019              5.0   \n",
      "2801  The Arts of Subversion: Tokyo, Japan        2019              9.0   \n",
      "3116     Occupying Wall Street for Pokémon        2011              2.0   \n",
      "3188                               Dominic        2018              7.0   \n",
      "\n",
      "                     genres  averagerating  numvotes              title  \\\n",
      "2527  Biography,Documentary            4.7       408  Rules Don't Apply   \n",
      "2542                 Horror            5.8       397        El Jeremias   \n",
      "2556      Animation,Fantasy            6.7       335             Rustom   \n",
      "2801            Documentary            7.3        65           Geostorm   \n",
      "3116     Comedy,Documentary            6.5       510  Crazy Rich Asians   \n",
      "3188                  Drama            7.0        30      Nobody's Fool   \n",
      "\n",
      "     studio  domestic_gross foreign_gross  year  \n",
      "2527    Fox       3700000.0        233000  2016  \n",
      "2542   Sony        650000.0       1900000  2016  \n",
      "2556    Zee       1100000.0        571000  2016  \n",
      "2801     WB      33700000.0     187900000  2017  \n",
      "3116     WB     174500000.0      64000000  2018  \n",
      "3188   Par.      31700000.0       1800000  2018  \n"
     ]
    },
    {
     "data": {
      "text/html": [
       "<div>\n",
       "<style scoped>\n",
       "    .dataframe tbody tr th:only-of-type {\n",
       "        vertical-align: middle;\n",
       "    }\n",
       "\n",
       "    .dataframe tbody tr th {\n",
       "        vertical-align: top;\n",
       "    }\n",
       "\n",
       "    .dataframe thead th {\n",
       "        text-align: right;\n",
       "    }\n",
       "</style>\n",
       "<table border=\"1\" class=\"dataframe\">\n",
       "  <thead>\n",
       "    <tr style=\"text-align: right;\">\n",
       "      <th></th>\n",
       "      <th>movie_id</th>\n",
       "      <th>primary_title</th>\n",
       "      <th>original_title</th>\n",
       "      <th>start_year</th>\n",
       "      <th>runtime_minutes</th>\n",
       "      <th>genres</th>\n",
       "      <th>averagerating</th>\n",
       "      <th>numvotes</th>\n",
       "      <th>title</th>\n",
       "      <th>studio</th>\n",
       "      <th>domestic_gross</th>\n",
       "      <th>foreign_gross</th>\n",
       "      <th>year</th>\n",
       "    </tr>\n",
       "  </thead>\n",
       "  <tbody>\n",
       "    <tr>\n",
       "      <th>0</th>\n",
       "      <td>tt0063540</td>\n",
       "      <td>Sunghursh</td>\n",
       "      <td>Sunghursh</td>\n",
       "      <td>2013</td>\n",
       "      <td>175.0</td>\n",
       "      <td>Action,Crime,Drama</td>\n",
       "      <td>8.3</td>\n",
       "      <td>31</td>\n",
       "      <td>Toy Story 3</td>\n",
       "      <td>BV</td>\n",
       "      <td>415000000.0</td>\n",
       "      <td>652000000</td>\n",
       "      <td>2010</td>\n",
       "    </tr>\n",
       "    <tr>\n",
       "      <th>1</th>\n",
       "      <td>tt0066787</td>\n",
       "      <td>One Day Before the Rainy Season</td>\n",
       "      <td>Ashad Ka Ek Din</td>\n",
       "      <td>2019</td>\n",
       "      <td>114.0</td>\n",
       "      <td>Biography,Drama</td>\n",
       "      <td>8.9</td>\n",
       "      <td>559</td>\n",
       "      <td>Alice in Wonderland (2010)</td>\n",
       "      <td>BV</td>\n",
       "      <td>334200000.0</td>\n",
       "      <td>691300000</td>\n",
       "      <td>2010</td>\n",
       "    </tr>\n",
       "    <tr>\n",
       "      <th>2</th>\n",
       "      <td>tt0069049</td>\n",
       "      <td>The Other Side of the Wind</td>\n",
       "      <td>The Other Side of the Wind</td>\n",
       "      <td>2018</td>\n",
       "      <td>122.0</td>\n",
       "      <td>Drama</td>\n",
       "      <td>6.4</td>\n",
       "      <td>20</td>\n",
       "      <td>Harry Potter and the Deathly Hallows Part 1</td>\n",
       "      <td>WB</td>\n",
       "      <td>296000000.0</td>\n",
       "      <td>664300000</td>\n",
       "      <td>2010</td>\n",
       "    </tr>\n",
       "    <tr>\n",
       "      <th>4</th>\n",
       "      <td>tt0100275</td>\n",
       "      <td>The Wandering Soap Opera</td>\n",
       "      <td>La Telenovela Errante</td>\n",
       "      <td>2017</td>\n",
       "      <td>80.0</td>\n",
       "      <td>Comedy,Drama,Fantasy</td>\n",
       "      <td>6.5</td>\n",
       "      <td>21</td>\n",
       "      <td>Shrek Forever After</td>\n",
       "      <td>P/DW</td>\n",
       "      <td>238700000.0</td>\n",
       "      <td>513900000</td>\n",
       "      <td>2010</td>\n",
       "    </tr>\n",
       "    <tr>\n",
       "      <th>5</th>\n",
       "      <td>tt0111414</td>\n",
       "      <td>A Thin Life</td>\n",
       "      <td>A Thin Life</td>\n",
       "      <td>2018</td>\n",
       "      <td>75.0</td>\n",
       "      <td>Comedy</td>\n",
       "      <td>6.2</td>\n",
       "      <td>326</td>\n",
       "      <td>The Twilight Saga: Eclipse</td>\n",
       "      <td>Sum.</td>\n",
       "      <td>300500000.0</td>\n",
       "      <td>398000000</td>\n",
       "      <td>2010</td>\n",
       "    </tr>\n",
       "  </tbody>\n",
       "</table>\n",
       "</div>"
      ],
      "text/plain": [
       "    movie_id                    primary_title              original_title  \\\n",
       "0  tt0063540                        Sunghursh                   Sunghursh   \n",
       "1  tt0066787  One Day Before the Rainy Season             Ashad Ka Ek Din   \n",
       "2  tt0069049       The Other Side of the Wind  The Other Side of the Wind   \n",
       "4  tt0100275         The Wandering Soap Opera       La Telenovela Errante   \n",
       "5  tt0111414                      A Thin Life                 A Thin Life   \n",
       "\n",
       "   start_year  runtime_minutes                genres  averagerating  numvotes  \\\n",
       "0        2013            175.0    Action,Crime,Drama            8.3        31   \n",
       "1        2019            114.0       Biography,Drama            8.9       559   \n",
       "2        2018            122.0                 Drama            6.4        20   \n",
       "4        2017             80.0  Comedy,Drama,Fantasy            6.5        21   \n",
       "5        2018             75.0                Comedy            6.2       326   \n",
       "\n",
       "                                         title studio  domestic_gross  \\\n",
       "0                                  Toy Story 3     BV     415000000.0   \n",
       "1                   Alice in Wonderland (2010)     BV     334200000.0   \n",
       "2  Harry Potter and the Deathly Hallows Part 1     WB     296000000.0   \n",
       "4                          Shrek Forever After   P/DW     238700000.0   \n",
       "5                   The Twilight Saga: Eclipse   Sum.     300500000.0   \n",
       "\n",
       "  foreign_gross  year  \n",
       "0     652000000  2010  \n",
       "1     691300000  2010  \n",
       "2     664300000  2010  \n",
       "4     513900000  2010  \n",
       "5     398000000  2010  "
      ]
     },
     "execution_count": 36,
     "metadata": {},
     "output_type": "execute_result"
    }
   ],
   "source": [
    "# 1. Check and potentially correct records with very short runtimes\n",
    "short_runtime_threshold = 10  # Set a threshold for what is considered too short\n",
    "short_runtime_records = movies_reviews_df[movies_reviews_df['runtime_minutes'] < short_runtime_threshold]\n",
    "\n",
    "# 3. Examine the identified records\n",
    "print(\"Records with Short Runtimes:\")\n",
    "print(short_runtime_records)\n",
    "\n",
    "# 4. Decide whether to correct or remove the records based on your analysis.\n",
    "# For example, if you decide to remove them:\n",
    "movies_reviews_df = movies_reviews_df[movies_reviews_df['runtime_minutes'] >= short_runtime_threshold]\n",
    "movies_reviews_df.head()"
   ]
  },
  {
   "cell_type": "code",
   "execution_count": 37,
   "metadata": {
    "scrolled": true
   },
   "outputs": [
    {
     "name": "stdout",
     "output_type": "stream",
     "text": [
      "Records with Low Ratings:\n",
      "        movie_id                                      primary_title  \\\n",
      "255    tt0780548                                       Kid Cannabis   \n",
      "259    tt0781441                                           Escalade   \n",
      "656    tt1001526                                           Megamind   \n",
      "1301  tt10105438                    My Name Is Fleming, Ian Fleming   \n",
      "1516  tt10131230                           Geek, and You Shall Find   \n",
      "1574  tt10140632                            A Man Who Meets Himself   \n",
      "2002  tt10195976                                  Zui Hao De Wo Men   \n",
      "2010  tt10196336                                            Kadamba   \n",
      "2869  tt10295918  Crescendo: On How Not To Remain Quiet with Mic...   \n",
      "\n",
      "                                         original_title  start_year  \\\n",
      "255                                        Kid Cannabis        2014   \n",
      "259                                            Escalade        2011   \n",
      "656                                            Megamind        2010   \n",
      "1301                    My Name Is Fleming, Ian Fleming        2016   \n",
      "1516                           Geek, and You Shall Find        2019   \n",
      "1574                            A Man Who Meets Himself        2019   \n",
      "2002                                  Zui Hao De Wo Men        2019   \n",
      "2010                                            Kadamba        2014   \n",
      "2869  Crescendo: On How Not To Remain Quiet with Mic...        2019   \n",
      "\n",
      "      runtime_minutes                   genres  averagerating  numvotes  \\\n",
      "255             110.0   Biography,Comedy,Crime            1.4         5   \n",
      "259              80.0                 Thriller            1.9       636   \n",
      "656              95.0  Action,Animation,Comedy            1.7        28   \n",
      "1301             52.0              Documentary            1.0       449   \n",
      "1516             91.0              Documentary            1.9       355   \n",
      "1574             60.0    Drama,Horror,Thriller            1.4         9   \n",
      "2002            110.0                    Drama            1.2        86   \n",
      "2010            156.0                    Drama            1.1       598   \n",
      "2869             10.0              Documentary            1.2       113   \n",
      "\n",
      "                           title     studio  domestic_gross foreign_gross  \\\n",
      "255                   No Problem       Eros        285000.0        369000   \n",
      "259                 Chain Letter        NFC        139000.0        447000   \n",
      "656                Henry's Crime       MPFT        103000.0        102000   \n",
      "1301              Black Nativity       FoxS       7000000.0        436000   \n",
      "1516                 Fury (2014)       Sony      85800000.0     126000000   \n",
      "1574              Dolphin Tale 2         WB      42000000.0      15800000   \n",
      "2002  Far from the Madding Crowd       FoxS      12200000.0      18000000   \n",
      "2010                      The 33         WB      12200000.0      12700000   \n",
      "2869              Loving Vincent  Good Deed       6700000.0      35500000   \n",
      "\n",
      "      year  \n",
      "255   2010  \n",
      "259   2010  \n",
      "656   2011  \n",
      "1301  2013  \n",
      "1516  2014  \n",
      "1574  2014  \n",
      "2002  2015  \n",
      "2010  2015  \n",
      "2869  2017  \n"
     ]
    },
    {
     "data": {
      "text/html": [
       "<div>\n",
       "<style scoped>\n",
       "    .dataframe tbody tr th:only-of-type {\n",
       "        vertical-align: middle;\n",
       "    }\n",
       "\n",
       "    .dataframe tbody tr th {\n",
       "        vertical-align: top;\n",
       "    }\n",
       "\n",
       "    .dataframe thead th {\n",
       "        text-align: right;\n",
       "    }\n",
       "</style>\n",
       "<table border=\"1\" class=\"dataframe\">\n",
       "  <thead>\n",
       "    <tr style=\"text-align: right;\">\n",
       "      <th></th>\n",
       "      <th>movie_id</th>\n",
       "      <th>primary_title</th>\n",
       "      <th>original_title</th>\n",
       "      <th>start_year</th>\n",
       "      <th>runtime_minutes</th>\n",
       "      <th>genres</th>\n",
       "      <th>averagerating</th>\n",
       "      <th>numvotes</th>\n",
       "      <th>title</th>\n",
       "      <th>studio</th>\n",
       "      <th>domestic_gross</th>\n",
       "      <th>foreign_gross</th>\n",
       "      <th>year</th>\n",
       "    </tr>\n",
       "  </thead>\n",
       "  <tbody>\n",
       "    <tr>\n",
       "      <th>0</th>\n",
       "      <td>tt0063540</td>\n",
       "      <td>Sunghursh</td>\n",
       "      <td>Sunghursh</td>\n",
       "      <td>2013</td>\n",
       "      <td>175.0</td>\n",
       "      <td>Action,Crime,Drama</td>\n",
       "      <td>8.3</td>\n",
       "      <td>31</td>\n",
       "      <td>Toy Story 3</td>\n",
       "      <td>BV</td>\n",
       "      <td>415000000.0</td>\n",
       "      <td>652000000</td>\n",
       "      <td>2010</td>\n",
       "    </tr>\n",
       "    <tr>\n",
       "      <th>1</th>\n",
       "      <td>tt0066787</td>\n",
       "      <td>One Day Before the Rainy Season</td>\n",
       "      <td>Ashad Ka Ek Din</td>\n",
       "      <td>2019</td>\n",
       "      <td>114.0</td>\n",
       "      <td>Biography,Drama</td>\n",
       "      <td>8.9</td>\n",
       "      <td>559</td>\n",
       "      <td>Alice in Wonderland (2010)</td>\n",
       "      <td>BV</td>\n",
       "      <td>334200000.0</td>\n",
       "      <td>691300000</td>\n",
       "      <td>2010</td>\n",
       "    </tr>\n",
       "    <tr>\n",
       "      <th>2</th>\n",
       "      <td>tt0069049</td>\n",
       "      <td>The Other Side of the Wind</td>\n",
       "      <td>The Other Side of the Wind</td>\n",
       "      <td>2018</td>\n",
       "      <td>122.0</td>\n",
       "      <td>Drama</td>\n",
       "      <td>6.4</td>\n",
       "      <td>20</td>\n",
       "      <td>Harry Potter and the Deathly Hallows Part 1</td>\n",
       "      <td>WB</td>\n",
       "      <td>296000000.0</td>\n",
       "      <td>664300000</td>\n",
       "      <td>2010</td>\n",
       "    </tr>\n",
       "    <tr>\n",
       "      <th>4</th>\n",
       "      <td>tt0100275</td>\n",
       "      <td>The Wandering Soap Opera</td>\n",
       "      <td>La Telenovela Errante</td>\n",
       "      <td>2017</td>\n",
       "      <td>80.0</td>\n",
       "      <td>Comedy,Drama,Fantasy</td>\n",
       "      <td>6.5</td>\n",
       "      <td>21</td>\n",
       "      <td>Shrek Forever After</td>\n",
       "      <td>P/DW</td>\n",
       "      <td>238700000.0</td>\n",
       "      <td>513900000</td>\n",
       "      <td>2010</td>\n",
       "    </tr>\n",
       "    <tr>\n",
       "      <th>5</th>\n",
       "      <td>tt0111414</td>\n",
       "      <td>A Thin Life</td>\n",
       "      <td>A Thin Life</td>\n",
       "      <td>2018</td>\n",
       "      <td>75.0</td>\n",
       "      <td>Comedy</td>\n",
       "      <td>6.2</td>\n",
       "      <td>326</td>\n",
       "      <td>The Twilight Saga: Eclipse</td>\n",
       "      <td>Sum.</td>\n",
       "      <td>300500000.0</td>\n",
       "      <td>398000000</td>\n",
       "      <td>2010</td>\n",
       "    </tr>\n",
       "    <tr>\n",
       "      <th>...</th>\n",
       "      <td>...</td>\n",
       "      <td>...</td>\n",
       "      <td>...</td>\n",
       "      <td>...</td>\n",
       "      <td>...</td>\n",
       "      <td>...</td>\n",
       "      <td>...</td>\n",
       "      <td>...</td>\n",
       "      <td>...</td>\n",
       "      <td>...</td>\n",
       "      <td>...</td>\n",
       "      <td>...</td>\n",
       "      <td>...</td>\n",
       "    </tr>\n",
       "    <tr>\n",
       "      <th>3263</th>\n",
       "      <td>tt10323428</td>\n",
       "      <td>Evil Lurks</td>\n",
       "      <td>Evil Lurks</td>\n",
       "      <td>2020</td>\n",
       "      <td>90.0</td>\n",
       "      <td>Horror</td>\n",
       "      <td>7.8</td>\n",
       "      <td>10179</td>\n",
       "      <td>The Front Runner</td>\n",
       "      <td>Sony</td>\n",
       "      <td>2000000.0</td>\n",
       "      <td>1200000</td>\n",
       "      <td>2018</td>\n",
       "    </tr>\n",
       "    <tr>\n",
       "      <th>3265</th>\n",
       "      <td>tt10323528</td>\n",
       "      <td>Quaffer</td>\n",
       "      <td>Quaffer</td>\n",
       "      <td>2018</td>\n",
       "      <td>88.0</td>\n",
       "      <td>Comedy</td>\n",
       "      <td>5.3</td>\n",
       "      <td>79</td>\n",
       "      <td>Wildlife</td>\n",
       "      <td>IFC</td>\n",
       "      <td>1100000.0</td>\n",
       "      <td>2000000</td>\n",
       "      <td>2018</td>\n",
       "    </tr>\n",
       "    <tr>\n",
       "      <th>3268</th>\n",
       "      <td>tt10323726</td>\n",
       "      <td>Mental Instabilities</td>\n",
       "      <td>Mental Instabilities</td>\n",
       "      <td>2019</td>\n",
       "      <td>57.0</td>\n",
       "      <td>Animation</td>\n",
       "      <td>6.7</td>\n",
       "      <td>250</td>\n",
       "      <td>Billionaire Boy's Club</td>\n",
       "      <td>VE</td>\n",
       "      <td>1300.0</td>\n",
       "      <td>2500000</td>\n",
       "      <td>2018</td>\n",
       "    </tr>\n",
       "    <tr>\n",
       "      <th>3271</th>\n",
       "      <td>tt10324026</td>\n",
       "      <td>La casa dei bambini</td>\n",
       "      <td>La casa dei bambini</td>\n",
       "      <td>2019</td>\n",
       "      <td>70.0</td>\n",
       "      <td>Documentary,History</td>\n",
       "      <td>5.4</td>\n",
       "      <td>356</td>\n",
       "      <td>Bilal: A New Breed of Hero</td>\n",
       "      <td>VE</td>\n",
       "      <td>491000.0</td>\n",
       "      <td>1700000</td>\n",
       "      <td>2018</td>\n",
       "    </tr>\n",
       "    <tr>\n",
       "      <th>3309</th>\n",
       "      <td>tt10327136</td>\n",
       "      <td>Mokalik (Mechanic)</td>\n",
       "      <td>Mokalik (Mechanic)</td>\n",
       "      <td>2019</td>\n",
       "      <td>100.0</td>\n",
       "      <td>Comedy</td>\n",
       "      <td>6.1</td>\n",
       "      <td>11248</td>\n",
       "      <td>Time Freak</td>\n",
       "      <td>Grindstone</td>\n",
       "      <td>10000.0</td>\n",
       "      <td>256000</td>\n",
       "      <td>2018</td>\n",
       "    </tr>\n",
       "  </tbody>\n",
       "</table>\n",
       "<p>1209 rows × 13 columns</p>\n",
       "</div>"
      ],
      "text/plain": [
       "        movie_id                    primary_title              original_title  \\\n",
       "0      tt0063540                        Sunghursh                   Sunghursh   \n",
       "1      tt0066787  One Day Before the Rainy Season             Ashad Ka Ek Din   \n",
       "2      tt0069049       The Other Side of the Wind  The Other Side of the Wind   \n",
       "4      tt0100275         The Wandering Soap Opera       La Telenovela Errante   \n",
       "5      tt0111414                      A Thin Life                 A Thin Life   \n",
       "...          ...                              ...                         ...   \n",
       "3263  tt10323428                       Evil Lurks                  Evil Lurks   \n",
       "3265  tt10323528                          Quaffer                     Quaffer   \n",
       "3268  tt10323726             Mental Instabilities        Mental Instabilities   \n",
       "3271  tt10324026              La casa dei bambini         La casa dei bambini   \n",
       "3309  tt10327136               Mokalik (Mechanic)          Mokalik (Mechanic)   \n",
       "\n",
       "      start_year  runtime_minutes                genres  averagerating  \\\n",
       "0           2013            175.0    Action,Crime,Drama            8.3   \n",
       "1           2019            114.0       Biography,Drama            8.9   \n",
       "2           2018            122.0                 Drama            6.4   \n",
       "4           2017             80.0  Comedy,Drama,Fantasy            6.5   \n",
       "5           2018             75.0                Comedy            6.2   \n",
       "...          ...              ...                   ...            ...   \n",
       "3263        2020             90.0                Horror            7.8   \n",
       "3265        2018             88.0                Comedy            5.3   \n",
       "3268        2019             57.0             Animation            6.7   \n",
       "3271        2019             70.0   Documentary,History            5.4   \n",
       "3309        2019            100.0                Comedy            6.1   \n",
       "\n",
       "      numvotes                                        title      studio  \\\n",
       "0           31                                  Toy Story 3          BV   \n",
       "1          559                   Alice in Wonderland (2010)          BV   \n",
       "2           20  Harry Potter and the Deathly Hallows Part 1          WB   \n",
       "4           21                          Shrek Forever After        P/DW   \n",
       "5          326                   The Twilight Saga: Eclipse        Sum.   \n",
       "...        ...                                          ...         ...   \n",
       "3263     10179                             The Front Runner        Sony   \n",
       "3265        79                                     Wildlife         IFC   \n",
       "3268       250                       Billionaire Boy's Club          VE   \n",
       "3271       356                   Bilal: A New Breed of Hero          VE   \n",
       "3309     11248                                   Time Freak  Grindstone   \n",
       "\n",
       "      domestic_gross foreign_gross  year  \n",
       "0        415000000.0     652000000  2010  \n",
       "1        334200000.0     691300000  2010  \n",
       "2        296000000.0     664300000  2010  \n",
       "4        238700000.0     513900000  2010  \n",
       "5        300500000.0     398000000  2010  \n",
       "...              ...           ...   ...  \n",
       "3263       2000000.0       1200000  2018  \n",
       "3265       1100000.0       2000000  2018  \n",
       "3268          1300.0       2500000  2018  \n",
       "3271        491000.0       1700000  2018  \n",
       "3309         10000.0        256000  2018  \n",
       "\n",
       "[1209 rows x 13 columns]"
      ]
     },
     "execution_count": 37,
     "metadata": {},
     "output_type": "execute_result"
    }
   ],
   "source": [
    "\n",
    "# 1. Set a threshold for what is considered too low\n",
    "low_rating_threshold = 2.0\n",
    "\n",
    "# 2. Identify records with ratings below the threshold\n",
    "low_rating_records = movies_reviews_df[movies_reviews_df['averagerating'] < low_rating_threshold]\n",
    "\n",
    "# 3. Examine the identified records\n",
    "print(\"Records with Low Ratings:\")\n",
    "print(low_rating_records)\n",
    "\n",
    "# 4. Decide whether to correct or remove the records based on your analysis.\n",
    "# For example, if you decide to remove them:\n",
    "movies_reviews_df = movies_reviews_df[movies_reviews_df['averagerating'] >= low_rating_threshold]\n",
    "movies_reviews_df"
   ]
  },
  {
   "cell_type": "markdown",
   "metadata": {},
   "source": [
    "### Checking data types"
   ]
  },
  {
   "cell_type": "code",
   "execution_count": 38,
   "metadata": {},
   "outputs": [
    {
     "name": "stdout",
     "output_type": "stream",
     "text": [
      "<class 'pandas.core.frame.DataFrame'>\n",
      "Int64Index: 1209 entries, 0 to 3309\n",
      "Data columns (total 13 columns):\n",
      " #   Column           Non-Null Count  Dtype  \n",
      "---  ------           --------------  -----  \n",
      " 0   movie_id         1209 non-null   object \n",
      " 1   primary_title    1209 non-null   object \n",
      " 2   original_title   1209 non-null   object \n",
      " 3   start_year       1209 non-null   int64  \n",
      " 4   runtime_minutes  1209 non-null   float64\n",
      " 5   genres           1209 non-null   object \n",
      " 6   averagerating    1209 non-null   float64\n",
      " 7   numvotes         1209 non-null   int64  \n",
      " 8   title            1209 non-null   object \n",
      " 9   studio           1209 non-null   object \n",
      " 10  domestic_gross   1209 non-null   float64\n",
      " 11  foreign_gross    1209 non-null   object \n",
      " 12  year             1209 non-null   int64  \n",
      "dtypes: float64(3), int64(3), object(7)\n",
      "memory usage: 132.2+ KB\n"
     ]
    }
   ],
   "source": [
    "movies_reviews_df.info()"
   ]
  },
  {
   "cell_type": "code",
   "execution_count": 39,
   "metadata": {},
   "outputs": [
    {
     "data": {
      "text/html": [
       "<div>\n",
       "<style scoped>\n",
       "    .dataframe tbody tr th:only-of-type {\n",
       "        vertical-align: middle;\n",
       "    }\n",
       "\n",
       "    .dataframe tbody tr th {\n",
       "        vertical-align: top;\n",
       "    }\n",
       "\n",
       "    .dataframe thead th {\n",
       "        text-align: right;\n",
       "    }\n",
       "</style>\n",
       "<table border=\"1\" class=\"dataframe\">\n",
       "  <thead>\n",
       "    <tr style=\"text-align: right;\">\n",
       "      <th></th>\n",
       "      <th>movie_id</th>\n",
       "      <th>primary_title</th>\n",
       "      <th>original_title</th>\n",
       "      <th>start_year</th>\n",
       "      <th>runtime_minutes</th>\n",
       "      <th>genres</th>\n",
       "      <th>averagerating</th>\n",
       "      <th>numvotes</th>\n",
       "      <th>title</th>\n",
       "      <th>studio</th>\n",
       "      <th>domestic_gross</th>\n",
       "      <th>year</th>\n",
       "    </tr>\n",
       "  </thead>\n",
       "  <tbody>\n",
       "    <tr>\n",
       "      <th>0</th>\n",
       "      <td>tt0063540</td>\n",
       "      <td>Sunghursh</td>\n",
       "      <td>Sunghursh</td>\n",
       "      <td>2013</td>\n",
       "      <td>175.0</td>\n",
       "      <td>Action,Crime,Drama</td>\n",
       "      <td>8.3</td>\n",
       "      <td>31</td>\n",
       "      <td>Toy Story 3</td>\n",
       "      <td>BV</td>\n",
       "      <td>415000000.0</td>\n",
       "      <td>2010</td>\n",
       "    </tr>\n",
       "    <tr>\n",
       "      <th>1</th>\n",
       "      <td>tt0066787</td>\n",
       "      <td>One Day Before the Rainy Season</td>\n",
       "      <td>Ashad Ka Ek Din</td>\n",
       "      <td>2019</td>\n",
       "      <td>114.0</td>\n",
       "      <td>Biography,Drama</td>\n",
       "      <td>8.9</td>\n",
       "      <td>559</td>\n",
       "      <td>Alice in Wonderland (2010)</td>\n",
       "      <td>BV</td>\n",
       "      <td>334200000.0</td>\n",
       "      <td>2010</td>\n",
       "    </tr>\n",
       "    <tr>\n",
       "      <th>2</th>\n",
       "      <td>tt0069049</td>\n",
       "      <td>The Other Side of the Wind</td>\n",
       "      <td>The Other Side of the Wind</td>\n",
       "      <td>2018</td>\n",
       "      <td>122.0</td>\n",
       "      <td>Drama</td>\n",
       "      <td>6.4</td>\n",
       "      <td>20</td>\n",
       "      <td>Harry Potter and the Deathly Hallows Part 1</td>\n",
       "      <td>WB</td>\n",
       "      <td>296000000.0</td>\n",
       "      <td>2010</td>\n",
       "    </tr>\n",
       "    <tr>\n",
       "      <th>4</th>\n",
       "      <td>tt0100275</td>\n",
       "      <td>The Wandering Soap Opera</td>\n",
       "      <td>La Telenovela Errante</td>\n",
       "      <td>2017</td>\n",
       "      <td>80.0</td>\n",
       "      <td>Comedy,Drama,Fantasy</td>\n",
       "      <td>6.5</td>\n",
       "      <td>21</td>\n",
       "      <td>Shrek Forever After</td>\n",
       "      <td>P/DW</td>\n",
       "      <td>238700000.0</td>\n",
       "      <td>2010</td>\n",
       "    </tr>\n",
       "    <tr>\n",
       "      <th>5</th>\n",
       "      <td>tt0111414</td>\n",
       "      <td>A Thin Life</td>\n",
       "      <td>A Thin Life</td>\n",
       "      <td>2018</td>\n",
       "      <td>75.0</td>\n",
       "      <td>Comedy</td>\n",
       "      <td>6.2</td>\n",
       "      <td>326</td>\n",
       "      <td>The Twilight Saga: Eclipse</td>\n",
       "      <td>Sum.</td>\n",
       "      <td>300500000.0</td>\n",
       "      <td>2010</td>\n",
       "    </tr>\n",
       "    <tr>\n",
       "      <th>...</th>\n",
       "      <td>...</td>\n",
       "      <td>...</td>\n",
       "      <td>...</td>\n",
       "      <td>...</td>\n",
       "      <td>...</td>\n",
       "      <td>...</td>\n",
       "      <td>...</td>\n",
       "      <td>...</td>\n",
       "      <td>...</td>\n",
       "      <td>...</td>\n",
       "      <td>...</td>\n",
       "      <td>...</td>\n",
       "    </tr>\n",
       "    <tr>\n",
       "      <th>3263</th>\n",
       "      <td>tt10323428</td>\n",
       "      <td>Evil Lurks</td>\n",
       "      <td>Evil Lurks</td>\n",
       "      <td>2020</td>\n",
       "      <td>90.0</td>\n",
       "      <td>Horror</td>\n",
       "      <td>7.8</td>\n",
       "      <td>10179</td>\n",
       "      <td>The Front Runner</td>\n",
       "      <td>Sony</td>\n",
       "      <td>2000000.0</td>\n",
       "      <td>2018</td>\n",
       "    </tr>\n",
       "    <tr>\n",
       "      <th>3265</th>\n",
       "      <td>tt10323528</td>\n",
       "      <td>Quaffer</td>\n",
       "      <td>Quaffer</td>\n",
       "      <td>2018</td>\n",
       "      <td>88.0</td>\n",
       "      <td>Comedy</td>\n",
       "      <td>5.3</td>\n",
       "      <td>79</td>\n",
       "      <td>Wildlife</td>\n",
       "      <td>IFC</td>\n",
       "      <td>1100000.0</td>\n",
       "      <td>2018</td>\n",
       "    </tr>\n",
       "    <tr>\n",
       "      <th>3268</th>\n",
       "      <td>tt10323726</td>\n",
       "      <td>Mental Instabilities</td>\n",
       "      <td>Mental Instabilities</td>\n",
       "      <td>2019</td>\n",
       "      <td>57.0</td>\n",
       "      <td>Animation</td>\n",
       "      <td>6.7</td>\n",
       "      <td>250</td>\n",
       "      <td>Billionaire Boy's Club</td>\n",
       "      <td>VE</td>\n",
       "      <td>1300.0</td>\n",
       "      <td>2018</td>\n",
       "    </tr>\n",
       "    <tr>\n",
       "      <th>3271</th>\n",
       "      <td>tt10324026</td>\n",
       "      <td>La casa dei bambini</td>\n",
       "      <td>La casa dei bambini</td>\n",
       "      <td>2019</td>\n",
       "      <td>70.0</td>\n",
       "      <td>Documentary,History</td>\n",
       "      <td>5.4</td>\n",
       "      <td>356</td>\n",
       "      <td>Bilal: A New Breed of Hero</td>\n",
       "      <td>VE</td>\n",
       "      <td>491000.0</td>\n",
       "      <td>2018</td>\n",
       "    </tr>\n",
       "    <tr>\n",
       "      <th>3309</th>\n",
       "      <td>tt10327136</td>\n",
       "      <td>Mokalik (Mechanic)</td>\n",
       "      <td>Mokalik (Mechanic)</td>\n",
       "      <td>2019</td>\n",
       "      <td>100.0</td>\n",
       "      <td>Comedy</td>\n",
       "      <td>6.1</td>\n",
       "      <td>11248</td>\n",
       "      <td>Time Freak</td>\n",
       "      <td>Grindstone</td>\n",
       "      <td>10000.0</td>\n",
       "      <td>2018</td>\n",
       "    </tr>\n",
       "  </tbody>\n",
       "</table>\n",
       "<p>1209 rows × 12 columns</p>\n",
       "</div>"
      ],
      "text/plain": [
       "        movie_id                    primary_title              original_title  \\\n",
       "0      tt0063540                        Sunghursh                   Sunghursh   \n",
       "1      tt0066787  One Day Before the Rainy Season             Ashad Ka Ek Din   \n",
       "2      tt0069049       The Other Side of the Wind  The Other Side of the Wind   \n",
       "4      tt0100275         The Wandering Soap Opera       La Telenovela Errante   \n",
       "5      tt0111414                      A Thin Life                 A Thin Life   \n",
       "...          ...                              ...                         ...   \n",
       "3263  tt10323428                       Evil Lurks                  Evil Lurks   \n",
       "3265  tt10323528                          Quaffer                     Quaffer   \n",
       "3268  tt10323726             Mental Instabilities        Mental Instabilities   \n",
       "3271  tt10324026              La casa dei bambini         La casa dei bambini   \n",
       "3309  tt10327136               Mokalik (Mechanic)          Mokalik (Mechanic)   \n",
       "\n",
       "      start_year  runtime_minutes                genres  averagerating  \\\n",
       "0           2013            175.0    Action,Crime,Drama            8.3   \n",
       "1           2019            114.0       Biography,Drama            8.9   \n",
       "2           2018            122.0                 Drama            6.4   \n",
       "4           2017             80.0  Comedy,Drama,Fantasy            6.5   \n",
       "5           2018             75.0                Comedy            6.2   \n",
       "...          ...              ...                   ...            ...   \n",
       "3263        2020             90.0                Horror            7.8   \n",
       "3265        2018             88.0                Comedy            5.3   \n",
       "3268        2019             57.0             Animation            6.7   \n",
       "3271        2019             70.0   Documentary,History            5.4   \n",
       "3309        2019            100.0                Comedy            6.1   \n",
       "\n",
       "      numvotes                                        title      studio  \\\n",
       "0           31                                  Toy Story 3          BV   \n",
       "1          559                   Alice in Wonderland (2010)          BV   \n",
       "2           20  Harry Potter and the Deathly Hallows Part 1          WB   \n",
       "4           21                          Shrek Forever After        P/DW   \n",
       "5          326                   The Twilight Saga: Eclipse        Sum.   \n",
       "...        ...                                          ...         ...   \n",
       "3263     10179                             The Front Runner        Sony   \n",
       "3265        79                                     Wildlife         IFC   \n",
       "3268       250                       Billionaire Boy's Club          VE   \n",
       "3271       356                   Bilal: A New Breed of Hero          VE   \n",
       "3309     11248                                   Time Freak  Grindstone   \n",
       "\n",
       "      domestic_gross  year  \n",
       "0        415000000.0  2010  \n",
       "1        334200000.0  2010  \n",
       "2        296000000.0  2010  \n",
       "4        238700000.0  2010  \n",
       "5        300500000.0  2010  \n",
       "...              ...   ...  \n",
       "3263       2000000.0  2018  \n",
       "3265       1100000.0  2018  \n",
       "3268          1300.0  2018  \n",
       "3271        491000.0  2018  \n",
       "3309         10000.0  2018  \n",
       "\n",
       "[1209 rows x 12 columns]"
      ]
     },
     "execution_count": 39,
     "metadata": {},
     "output_type": "execute_result"
    }
   ],
   "source": [
    "#droping  foreign_gross because it an object and its suppose  to be a float\n",
    "\n",
    "movies_reviews_df.drop(columns=[\"foreign_gross\"])"
   ]
  },
  {
   "cell_type": "code",
   "execution_count": 40,
   "metadata": {},
   "outputs": [
    {
     "name": "stdout",
     "output_type": "stream",
     "text": [
      "<class 'pandas.core.frame.DataFrame'>\n",
      "Int64Index: 1209 entries, 0 to 3309\n",
      "Data columns (total 13 columns):\n",
      " #   Column           Non-Null Count  Dtype  \n",
      "---  ------           --------------  -----  \n",
      " 0   movie_id         1209 non-null   object \n",
      " 1   primary_title    1209 non-null   object \n",
      " 2   original_title   1209 non-null   object \n",
      " 3   start_year       1209 non-null   int64  \n",
      " 4   runtime_minutes  1209 non-null   float64\n",
      " 5   genres           1209 non-null   object \n",
      " 6   averagerating    1209 non-null   float64\n",
      " 7   numvotes         1209 non-null   int64  \n",
      " 8   title            1209 non-null   object \n",
      " 9   studio           1209 non-null   object \n",
      " 10  domestic_gross   1209 non-null   float64\n",
      " 11  foreign_gross    1209 non-null   object \n",
      " 12  year             1209 non-null   int64  \n",
      "dtypes: float64(3), int64(3), object(7)\n",
      "memory usage: 132.2+ KB\n"
     ]
    }
   ],
   "source": [
    "movies_reviews_df.info()"
   ]
  },
  {
   "cell_type": "code",
   "execution_count": 41,
   "metadata": {
    "scrolled": true
   },
   "outputs": [
    {
     "data": {
      "text/html": [
       "<div>\n",
       "<style scoped>\n",
       "    .dataframe tbody tr th:only-of-type {\n",
       "        vertical-align: middle;\n",
       "    }\n",
       "\n",
       "    .dataframe tbody tr th {\n",
       "        vertical-align: top;\n",
       "    }\n",
       "\n",
       "    .dataframe thead th {\n",
       "        text-align: right;\n",
       "    }\n",
       "</style>\n",
       "<table border=\"1\" class=\"dataframe\">\n",
       "  <thead>\n",
       "    <tr style=\"text-align: right;\">\n",
       "      <th></th>\n",
       "      <th>start_year</th>\n",
       "      <th>runtime_minutes</th>\n",
       "      <th>averagerating</th>\n",
       "      <th>numvotes</th>\n",
       "      <th>domestic_gross</th>\n",
       "      <th>year</th>\n",
       "    </tr>\n",
       "  </thead>\n",
       "  <tbody>\n",
       "    <tr>\n",
       "      <th>count</th>\n",
       "      <td>1209.000000</td>\n",
       "      <td>1209.000000</td>\n",
       "      <td>1209.000000</td>\n",
       "      <td>1209.000000</td>\n",
       "      <td>1.209000e+03</td>\n",
       "      <td>1209.000000</td>\n",
       "    </tr>\n",
       "    <tr>\n",
       "      <th>mean</th>\n",
       "      <td>2015.574028</td>\n",
       "      <td>91.239041</td>\n",
       "      <td>6.331514</td>\n",
       "      <td>7542.812242</td>\n",
       "      <td>4.542210e+07</td>\n",
       "      <td>2012.888337</td>\n",
       "    </tr>\n",
       "    <tr>\n",
       "      <th>std</th>\n",
       "      <td>3.617199</td>\n",
       "      <td>27.669973</td>\n",
       "      <td>1.447814</td>\n",
       "      <td>50648.333232</td>\n",
       "      <td>8.287041e+07</td>\n",
       "      <td>2.489036</td>\n",
       "    </tr>\n",
       "    <tr>\n",
       "      <th>min</th>\n",
       "      <td>2010.000000</td>\n",
       "      <td>11.000000</td>\n",
       "      <td>2.000000</td>\n",
       "      <td>5.000000</td>\n",
       "      <td>4.000000e+02</td>\n",
       "      <td>2010.000000</td>\n",
       "    </tr>\n",
       "    <tr>\n",
       "      <th>25%</th>\n",
       "      <td>2012.000000</td>\n",
       "      <td>76.000000</td>\n",
       "      <td>5.500000</td>\n",
       "      <td>17.000000</td>\n",
       "      <td>5.170000e+05</td>\n",
       "      <td>2011.000000</td>\n",
       "    </tr>\n",
       "    <tr>\n",
       "      <th>50%</th>\n",
       "      <td>2017.000000</td>\n",
       "      <td>90.000000</td>\n",
       "      <td>6.500000</td>\n",
       "      <td>66.000000</td>\n",
       "      <td>1.370000e+07</td>\n",
       "      <td>2012.000000</td>\n",
       "    </tr>\n",
       "    <tr>\n",
       "      <th>75%</th>\n",
       "      <td>2019.000000</td>\n",
       "      <td>105.000000</td>\n",
       "      <td>7.400000</td>\n",
       "      <td>403.000000</td>\n",
       "      <td>5.510000e+07</td>\n",
       "      <td>2015.000000</td>\n",
       "    </tr>\n",
       "    <tr>\n",
       "      <th>max</th>\n",
       "      <td>2022.000000</td>\n",
       "      <td>288.000000</td>\n",
       "      <td>9.700000</td>\n",
       "      <td>780910.000000</td>\n",
       "      <td>9.367000e+08</td>\n",
       "      <td>2018.000000</td>\n",
       "    </tr>\n",
       "  </tbody>\n",
       "</table>\n",
       "</div>"
      ],
      "text/plain": [
       "        start_year  runtime_minutes  averagerating       numvotes  \\\n",
       "count  1209.000000      1209.000000    1209.000000    1209.000000   \n",
       "mean   2015.574028        91.239041       6.331514    7542.812242   \n",
       "std       3.617199        27.669973       1.447814   50648.333232   \n",
       "min    2010.000000        11.000000       2.000000       5.000000   \n",
       "25%    2012.000000        76.000000       5.500000      17.000000   \n",
       "50%    2017.000000        90.000000       6.500000      66.000000   \n",
       "75%    2019.000000       105.000000       7.400000     403.000000   \n",
       "max    2022.000000       288.000000       9.700000  780910.000000   \n",
       "\n",
       "       domestic_gross         year  \n",
       "count    1.209000e+03  1209.000000  \n",
       "mean     4.542210e+07  2012.888337  \n",
       "std      8.287041e+07     2.489036  \n",
       "min      4.000000e+02  2010.000000  \n",
       "25%      5.170000e+05  2011.000000  \n",
       "50%      1.370000e+07  2012.000000  \n",
       "75%      5.510000e+07  2015.000000  \n",
       "max      9.367000e+08  2018.000000  "
      ]
     },
     "execution_count": 41,
     "metadata": {},
     "output_type": "execute_result"
    }
   ],
   "source": [
    "movies_reviews_df.describe()"
   ]
  },
  {
   "cell_type": "code",
   "execution_count": 42,
   "metadata": {
    "scrolled": true
   },
   "outputs": [
    {
     "data": {
      "text/html": [
       "<div>\n",
       "<style scoped>\n",
       "    .dataframe tbody tr th:only-of-type {\n",
       "        vertical-align: middle;\n",
       "    }\n",
       "\n",
       "    .dataframe tbody tr th {\n",
       "        vertical-align: top;\n",
       "    }\n",
       "\n",
       "    .dataframe thead th {\n",
       "        text-align: right;\n",
       "    }\n",
       "</style>\n",
       "<table border=\"1\" class=\"dataframe\">\n",
       "  <thead>\n",
       "    <tr style=\"text-align: right;\">\n",
       "      <th></th>\n",
       "      <th>movie_id</th>\n",
       "      <th>primary_title</th>\n",
       "      <th>original_title</th>\n",
       "      <th>start_year</th>\n",
       "      <th>runtime_minutes</th>\n",
       "      <th>genres</th>\n",
       "      <th>averagerating</th>\n",
       "      <th>numvotes</th>\n",
       "      <th>title</th>\n",
       "      <th>studio</th>\n",
       "      <th>domestic_gross</th>\n",
       "      <th>foreign_gross</th>\n",
       "      <th>year</th>\n",
       "    </tr>\n",
       "  </thead>\n",
       "  <tbody>\n",
       "    <tr>\n",
       "      <th>0</th>\n",
       "      <td>tt0063540</td>\n",
       "      <td>Sunghursh</td>\n",
       "      <td>Sunghursh</td>\n",
       "      <td>2013</td>\n",
       "      <td>175.0</td>\n",
       "      <td>Action,Crime,Drama</td>\n",
       "      <td>8.3</td>\n",
       "      <td>31</td>\n",
       "      <td>Toy Story 3</td>\n",
       "      <td>BV</td>\n",
       "      <td>415000000.0</td>\n",
       "      <td>652000000</td>\n",
       "      <td>2010</td>\n",
       "    </tr>\n",
       "    <tr>\n",
       "      <th>1</th>\n",
       "      <td>tt0066787</td>\n",
       "      <td>One Day Before the Rainy Season</td>\n",
       "      <td>Ashad Ka Ek Din</td>\n",
       "      <td>2019</td>\n",
       "      <td>114.0</td>\n",
       "      <td>Biography,Drama</td>\n",
       "      <td>8.9</td>\n",
       "      <td>559</td>\n",
       "      <td>Alice in Wonderland (2010)</td>\n",
       "      <td>BV</td>\n",
       "      <td>334200000.0</td>\n",
       "      <td>691300000</td>\n",
       "      <td>2010</td>\n",
       "    </tr>\n",
       "    <tr>\n",
       "      <th>2</th>\n",
       "      <td>tt0069049</td>\n",
       "      <td>The Other Side of the Wind</td>\n",
       "      <td>The Other Side of the Wind</td>\n",
       "      <td>2018</td>\n",
       "      <td>122.0</td>\n",
       "      <td>Drama</td>\n",
       "      <td>6.4</td>\n",
       "      <td>20</td>\n",
       "      <td>Harry Potter and the Deathly Hallows Part 1</td>\n",
       "      <td>WB</td>\n",
       "      <td>296000000.0</td>\n",
       "      <td>664300000</td>\n",
       "      <td>2010</td>\n",
       "    </tr>\n",
       "    <tr>\n",
       "      <th>4</th>\n",
       "      <td>tt0100275</td>\n",
       "      <td>The Wandering Soap Opera</td>\n",
       "      <td>La Telenovela Errante</td>\n",
       "      <td>2017</td>\n",
       "      <td>80.0</td>\n",
       "      <td>Comedy,Drama,Fantasy</td>\n",
       "      <td>6.5</td>\n",
       "      <td>21</td>\n",
       "      <td>Shrek Forever After</td>\n",
       "      <td>P/DW</td>\n",
       "      <td>238700000.0</td>\n",
       "      <td>513900000</td>\n",
       "      <td>2010</td>\n",
       "    </tr>\n",
       "    <tr>\n",
       "      <th>5</th>\n",
       "      <td>tt0111414</td>\n",
       "      <td>A Thin Life</td>\n",
       "      <td>A Thin Life</td>\n",
       "      <td>2018</td>\n",
       "      <td>75.0</td>\n",
       "      <td>Comedy</td>\n",
       "      <td>6.2</td>\n",
       "      <td>326</td>\n",
       "      <td>The Twilight Saga: Eclipse</td>\n",
       "      <td>Sum.</td>\n",
       "      <td>300500000.0</td>\n",
       "      <td>398000000</td>\n",
       "      <td>2010</td>\n",
       "    </tr>\n",
       "  </tbody>\n",
       "</table>\n",
       "</div>"
      ],
      "text/plain": [
       "    movie_id                    primary_title              original_title  \\\n",
       "0  tt0063540                        Sunghursh                   Sunghursh   \n",
       "1  tt0066787  One Day Before the Rainy Season             Ashad Ka Ek Din   \n",
       "2  tt0069049       The Other Side of the Wind  The Other Side of the Wind   \n",
       "4  tt0100275         The Wandering Soap Opera       La Telenovela Errante   \n",
       "5  tt0111414                      A Thin Life                 A Thin Life   \n",
       "\n",
       "   start_year  runtime_minutes                genres  averagerating  numvotes  \\\n",
       "0        2013            175.0    Action,Crime,Drama            8.3        31   \n",
       "1        2019            114.0       Biography,Drama            8.9       559   \n",
       "2        2018            122.0                 Drama            6.4        20   \n",
       "4        2017             80.0  Comedy,Drama,Fantasy            6.5        21   \n",
       "5        2018             75.0                Comedy            6.2       326   \n",
       "\n",
       "                                         title studio  domestic_gross  \\\n",
       "0                                  Toy Story 3     BV     415000000.0   \n",
       "1                   Alice in Wonderland (2010)     BV     334200000.0   \n",
       "2  Harry Potter and the Deathly Hallows Part 1     WB     296000000.0   \n",
       "4                          Shrek Forever After   P/DW     238700000.0   \n",
       "5                   The Twilight Saga: Eclipse   Sum.     300500000.0   \n",
       "\n",
       "  foreign_gross  year  \n",
       "0     652000000  2010  \n",
       "1     691300000  2010  \n",
       "2     664300000  2010  \n",
       "4     513900000  2010  \n",
       "5     398000000  2010  "
      ]
     },
     "execution_count": 42,
     "metadata": {},
     "output_type": "execute_result"
    }
   ],
   "source": [
    "movies_reviews_df.head()"
   ]
  },
  {
   "cell_type": "markdown",
   "metadata": {},
   "source": [
    "### 4. Exploratory Data Analysis(EDA)"
   ]
  },
  {
   "cell_type": "markdown",
   "metadata": {},
   "source": [
    "   ###### 4.1 Univariate Analysis"
   ]
  },
  {
   "cell_type": "markdown",
   "metadata": {},
   "source": [
    "It gives us the charesteristics or behaviour of an individual variable."
   ]
  },
  {
   "cell_type": "code",
   "execution_count": 43,
   "metadata": {},
   "outputs": [
    {
     "data": {
      "text/plain": [
       "count          1209\n",
       "unique         1209\n",
       "top       tt0063540\n",
       "freq              1\n",
       "Name: movie_id, dtype: object"
      ]
     },
     "execution_count": 43,
     "metadata": {},
     "output_type": "execute_result"
    }
   ],
   "source": [
    "#checking the categorical data\n",
    "movies_reviews_df.movie_id.describe()"
   ]
  },
  {
   "cell_type": "code",
   "execution_count": 44,
   "metadata": {},
   "outputs": [
    {
     "data": {
      "text/plain": [
       "count          1209\n",
       "unique         1209\n",
       "top       Sunghursh\n",
       "freq              1\n",
       "Name: primary_title, dtype: object"
      ]
     },
     "execution_count": 44,
     "metadata": {},
     "output_type": "execute_result"
    }
   ],
   "source": [
    "#checking the categorical data\n",
    "movies_reviews_df.primary_title.describe()"
   ]
  },
  {
   "cell_type": "code",
   "execution_count": 45,
   "metadata": {},
   "outputs": [
    {
     "data": {
      "text/plain": [
       "count          1209\n",
       "unique         1209\n",
       "top       Sunghursh\n",
       "freq              1\n",
       "Name: original_title, dtype: object"
      ]
     },
     "execution_count": 45,
     "metadata": {},
     "output_type": "execute_result"
    }
   ],
   "source": [
    "#checking the categorical data\n",
    "movies_reviews_df.original_title.describe()"
   ]
  },
  {
   "cell_type": "code",
   "execution_count": 46,
   "metadata": {
    "scrolled": true
   },
   "outputs": [
    {
     "data": {
      "text/plain": [
       "count            1209\n",
       "unique            196\n",
       "top       Documentary\n",
       "freq              310\n",
       "Name: genres, dtype: object"
      ]
     },
     "execution_count": 46,
     "metadata": {},
     "output_type": "execute_result"
    }
   ],
   "source": [
    "#checking the categorical data\n",
    "movies_reviews_df.genres.describe()"
   ]
  },
  {
   "cell_type": "code",
   "execution_count": 47,
   "metadata": {
    "scrolled": true
   },
   "outputs": [
    {
     "data": {
      "text/plain": [
       "count            1209\n",
       "unique           1209\n",
       "top       Toy Story 3\n",
       "freq                1\n",
       "Name: title, dtype: object"
      ]
     },
     "execution_count": 47,
     "metadata": {},
     "output_type": "execute_result"
    }
   ],
   "source": [
    "#checking the categorical data\n",
    "movies_reviews_df.title.describe()"
   ]
  },
  {
   "cell_type": "code",
   "execution_count": 48,
   "metadata": {},
   "outputs": [
    {
     "data": {
      "text/plain": [
       "count     1209\n",
       "unique     147\n",
       "top        Fox\n",
       "freq        84\n",
       "Name: studio, dtype: object"
      ]
     },
     "execution_count": 48,
     "metadata": {},
     "output_type": "execute_result"
    }
   ],
   "source": [
    "#checking the categorical data\n",
    "movies_reviews_df.studio.describe()"
   ]
  },
  {
   "cell_type": "code",
   "execution_count": 49,
   "metadata": {},
   "outputs": [
    {
     "data": {
      "text/plain": [
       "count        1209\n",
       "unique        826\n",
       "top       1200000\n",
       "freq           10\n",
       "Name: foreign_gross, dtype: object"
      ]
     },
     "execution_count": 49,
     "metadata": {},
     "output_type": "execute_result"
    }
   ],
   "source": [
    "#checking the categorical data\n",
    "movies_reviews_df.foreign_gross.describe()"
   ]
  },
  {
   "cell_type": "markdown",
   "metadata": {},
   "source": [
    "\n",
    "Based on the univariate analysis of the categorical data in the DataFrame df20, here's what you can infer:\n",
    "\n",
    "Primary Title and Original Title: There are a total of 1209 entries. For the \"Primary Title,\" there are 1209 unique titles. The most frequent primary title is \"Sunghursh,\" occurring 1 time. "
   ]
  },
  {
   "cell_type": "markdown",
   "metadata": {},
   "source": [
    "   #### 4.1.1  Measure of central tendency"
   ]
  },
  {
   "cell_type": "code",
   "execution_count": null,
   "metadata": {},
   "outputs": [],
   "source": []
  },
  {
   "cell_type": "code",
   "execution_count": 50,
   "metadata": {},
   "outputs": [
    {
     "name": "stdout",
     "output_type": "stream",
     "text": [
      "The average of runtime minutes is: 91.23904052936311\n"
     ]
    }
   ],
   "source": [
    "# Finding mean\n",
    "print(\"The average of runtime minutes is:\",movies_reviews_df.runtime_minutes.mean())"
   ]
  },
  {
   "cell_type": "code",
   "execution_count": 51,
   "metadata": {},
   "outputs": [
    {
     "name": "stdout",
     "output_type": "stream",
     "text": [
      "The median of runtime minutes is: 90.0\n"
     ]
    }
   ],
   "source": [
    "# Finding median\n",
    "print(\"The median of runtime minutes is:\",movies_reviews_df.runtime_minutes.median())"
   ]
  },
  {
   "cell_type": "code",
   "execution_count": 52,
   "metadata": {},
   "outputs": [
    {
     "name": "stdout",
     "output_type": "stream",
     "text": [
      "The mode of runtime minutes is: 0    90.0\n",
      "Name: runtime_minutes, dtype: float64\n"
     ]
    }
   ],
   "source": [
    "# Finding mode\n",
    "print(\"The mode of runtime minutes is:\",movies_reviews_df.runtime_minutes.mode())"
   ]
  },
  {
   "cell_type": "markdown",
   "metadata": {},
   "source": [
    "according to that analysis we can conclude that variable runtime_minutes has a symmetrical distribution because the measures of dispersions are almost the same"
   ]
  },
  {
   "cell_type": "code",
   "execution_count": 53,
   "metadata": {},
   "outputs": [
    {
     "data": {
      "text/html": [
       "<div>\n",
       "<style scoped>\n",
       "    .dataframe tbody tr th:only-of-type {\n",
       "        vertical-align: middle;\n",
       "    }\n",
       "\n",
       "    .dataframe tbody tr th {\n",
       "        vertical-align: top;\n",
       "    }\n",
       "\n",
       "    .dataframe thead th {\n",
       "        text-align: right;\n",
       "    }\n",
       "</style>\n",
       "<table border=\"1\" class=\"dataframe\">\n",
       "  <thead>\n",
       "    <tr style=\"text-align: right;\">\n",
       "      <th></th>\n",
       "      <th>start_year</th>\n",
       "      <th>runtime_minutes</th>\n",
       "      <th>averagerating</th>\n",
       "      <th>numvotes</th>\n",
       "      <th>domestic_gross</th>\n",
       "      <th>year</th>\n",
       "    </tr>\n",
       "  </thead>\n",
       "  <tbody>\n",
       "    <tr>\n",
       "      <th>count</th>\n",
       "      <td>1209.000000</td>\n",
       "      <td>1209.000000</td>\n",
       "      <td>1209.000000</td>\n",
       "      <td>1209.000000</td>\n",
       "      <td>1.209000e+03</td>\n",
       "      <td>1209.000000</td>\n",
       "    </tr>\n",
       "    <tr>\n",
       "      <th>mean</th>\n",
       "      <td>2015.574028</td>\n",
       "      <td>91.239041</td>\n",
       "      <td>6.331514</td>\n",
       "      <td>7542.812242</td>\n",
       "      <td>4.542210e+07</td>\n",
       "      <td>2012.888337</td>\n",
       "    </tr>\n",
       "    <tr>\n",
       "      <th>std</th>\n",
       "      <td>3.617199</td>\n",
       "      <td>27.669973</td>\n",
       "      <td>1.447814</td>\n",
       "      <td>50648.333232</td>\n",
       "      <td>8.287041e+07</td>\n",
       "      <td>2.489036</td>\n",
       "    </tr>\n",
       "    <tr>\n",
       "      <th>min</th>\n",
       "      <td>2010.000000</td>\n",
       "      <td>11.000000</td>\n",
       "      <td>2.000000</td>\n",
       "      <td>5.000000</td>\n",
       "      <td>4.000000e+02</td>\n",
       "      <td>2010.000000</td>\n",
       "    </tr>\n",
       "    <tr>\n",
       "      <th>25%</th>\n",
       "      <td>2012.000000</td>\n",
       "      <td>76.000000</td>\n",
       "      <td>5.500000</td>\n",
       "      <td>17.000000</td>\n",
       "      <td>5.170000e+05</td>\n",
       "      <td>2011.000000</td>\n",
       "    </tr>\n",
       "    <tr>\n",
       "      <th>50%</th>\n",
       "      <td>2017.000000</td>\n",
       "      <td>90.000000</td>\n",
       "      <td>6.500000</td>\n",
       "      <td>66.000000</td>\n",
       "      <td>1.370000e+07</td>\n",
       "      <td>2012.000000</td>\n",
       "    </tr>\n",
       "    <tr>\n",
       "      <th>75%</th>\n",
       "      <td>2019.000000</td>\n",
       "      <td>105.000000</td>\n",
       "      <td>7.400000</td>\n",
       "      <td>403.000000</td>\n",
       "      <td>5.510000e+07</td>\n",
       "      <td>2015.000000</td>\n",
       "    </tr>\n",
       "    <tr>\n",
       "      <th>max</th>\n",
       "      <td>2022.000000</td>\n",
       "      <td>288.000000</td>\n",
       "      <td>9.700000</td>\n",
       "      <td>780910.000000</td>\n",
       "      <td>9.367000e+08</td>\n",
       "      <td>2018.000000</td>\n",
       "    </tr>\n",
       "  </tbody>\n",
       "</table>\n",
       "</div>"
      ],
      "text/plain": [
       "        start_year  runtime_minutes  averagerating       numvotes  \\\n",
       "count  1209.000000      1209.000000    1209.000000    1209.000000   \n",
       "mean   2015.574028        91.239041       6.331514    7542.812242   \n",
       "std       3.617199        27.669973       1.447814   50648.333232   \n",
       "min    2010.000000        11.000000       2.000000       5.000000   \n",
       "25%    2012.000000        76.000000       5.500000      17.000000   \n",
       "50%    2017.000000        90.000000       6.500000      66.000000   \n",
       "75%    2019.000000       105.000000       7.400000     403.000000   \n",
       "max    2022.000000       288.000000       9.700000  780910.000000   \n",
       "\n",
       "       domestic_gross         year  \n",
       "count    1.209000e+03  1209.000000  \n",
       "mean     4.542210e+07  2012.888337  \n",
       "std      8.287041e+07     2.489036  \n",
       "min      4.000000e+02  2010.000000  \n",
       "25%      5.170000e+05  2011.000000  \n",
       "50%      1.370000e+07  2012.000000  \n",
       "75%      5.510000e+07  2015.000000  \n",
       "max      9.367000e+08  2018.000000  "
      ]
     },
     "execution_count": 53,
     "metadata": {},
     "output_type": "execute_result"
    }
   ],
   "source": [
    "movies_reviews_df.describe()"
   ]
  },
  {
   "cell_type": "code",
   "execution_count": null,
   "metadata": {},
   "outputs": [],
   "source": []
  },
  {
   "cell_type": "code",
   "execution_count": 54,
   "metadata": {
    "scrolled": true
   },
   "outputs": [
    {
     "data": {
      "image/png": "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",
      "text/plain": [
       "<Figure size 2000x1000 with 6 Axes>"
      ]
     },
     "metadata": {},
     "output_type": "display_data"
    }
   ],
   "source": [
    "# plotting histograms to visualize patterns in the data\n",
    "import matplotlib.pyplot as plt\n",
    "movies_reviews_df.hist(figsize = (20,10), bins= 24)\n",
    "plt.show()"
   ]
  },
  {
   "cell_type": "markdown",
   "metadata": {},
   "source": [
    "Explanation of Histograms:\n",
    "\n",
    "The histogram for the start year shows that the data is distributed across the years 2010 to 2019. There is a relatively even distribution of movies over this period, with some variation.\n",
    "\n",
    "The histogram for runtime minutes reveals that most movies have a runtime between 80 to 100 minutes. There are fewer movies with extremely short or long runtimes, indicating a peak around the average runtime. This means its has a symmetrical distribution\n",
    "\n",
    "The histogram for average ratings shows a distribution that is slightly left-skewed. Most movies have ratings between 6.5 and 7.5, with fewer movies receiving very low or very high ratings.\n",
    "\n",
    "The histogram for the number of votes is highly right-skewed. Most movies have a relatively low number of votes, while a few movies have an exceptionally high number of votes, creating a long tail on the right side. These histograms provide insights into the distribution and patterns within each numerical variable, which can help guide further analysis and exploration of the dataset. What i would advice microsft according to this analysis is that in movie production they should consider run time minutes to be about 90 minutes which is close to the average run time because according to our data most movies have are within a range of 80 to 100 minutes"
   ]
  },
  {
   "cell_type": "code",
   "execution_count": null,
   "metadata": {},
   "outputs": [],
   "source": []
  },
  {
   "cell_type": "markdown",
   "metadata": {},
   "source": [
    "The next analysis will be on movie realse year trends"
   ]
  },
  {
   "cell_type": "code",
   "execution_count": 55,
   "metadata": {},
   "outputs": [
    {
     "data": {
      "text/plain": [
       "2010    197\n",
       "2011     95\n",
       "2012     64\n",
       "2013     57\n",
       "2014     51\n",
       "2015     43\n",
       "2016     42\n",
       "2017     66\n",
       "2018    147\n",
       "2019    436\n",
       "2020     10\n",
       "2022      1\n",
       "Name: start_year, dtype: int64"
      ]
     },
     "execution_count": 55,
     "metadata": {},
     "output_type": "execute_result"
    }
   ],
   "source": [
    "# Explore movie release year trends\n",
    "year_trends = movies_reviews_df['start_year'].value_counts().sort_index()\n",
    "year_trends"
   ]
  },
  {
   "cell_type": "code",
   "execution_count": 56,
   "metadata": {},
   "outputs": [
    {
     "data": {
      "image/png": "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",
      "text/plain": [
       "<Figure size 1200x600 with 1 Axes>"
      ]
     },
     "metadata": {},
     "output_type": "display_data"
    }
   ],
   "source": [
    "# Plotting year_trends as a line chart\n",
    "import matplotlib.pyplot as plt\n",
    "\n",
    "plt.figure(figsize=(12, 6))\n",
    "plt.plot(year_trends.index, year_trends.values, marker='o', linestyle='-')\n",
    "plt.title('Movie Release Year Trends')\n",
    "plt.xlabel('Year')\n",
    "plt.ylabel('Number of Movies Released')\n",
    "plt.grid(True)\n",
    "plt.show()"
   ]
  },
  {
   "cell_type": "markdown",
   "metadata": {},
   "source": [
    "The line chart helps us visualize the trends in movie releases over different years.\n",
    "\n",
    "By examining the chart, we can make the following observations and analysis:\n",
    "\n",
    "We can see there is a steady decrease in movie release since 2010 to 2016 but after 2016 there have been an increase in movie releases. 2019 had the highest number of movies released ever according to the analysis.\n",
    "We can identify specific years with spikes or drops in movie releases, which may be due to factors such as major industry events, economic conditions, or cultural trends.\n",
    "We can analyze the general pattern of movie releases, such as whether there are cyclical patterns or a continuous upward trend.\n",
    "Based on these observations, we can draw conclusions about the historical trends in movie releases and potentially make hypotheses about the underlying factors driving these trends."
   ]
  },
  {
   "cell_type": "code",
   "execution_count": null,
   "metadata": {},
   "outputs": [],
   "source": []
  },
  {
   "cell_type": "markdown",
   "metadata": {},
   "source": [
    "The other univariate analysis that we are going to look at is to Explore the popularity of movie genres"
   ]
  },
  {
   "cell_type": "code",
   "execution_count": 57,
   "metadata": {},
   "outputs": [
    {
     "data": {
      "image/png": "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",
      "text/plain": [
       "<Figure size 1200x600 with 1 Axes>"
      ]
     },
     "metadata": {},
     "output_type": "display_data"
    }
   ],
   "source": [
    "# Explore the popularity of movie genres\n",
    "import matplotlib.pyplot as plt\n",
    "\n",
    "# Split and explode genres, then count the frequency of each genre\n",
    "genres = movies_reviews_df['genres'].str.split(',').explode().str.strip()\n",
    "popular_genres = genres.value_counts()\n",
    "\n",
    "# Plot the popular genres as a bar chart\n",
    "plt.figure(figsize=(12, 6))\n",
    "popular_genres.plot(kind='bar', color='skyblue')\n",
    "plt.title('Popularity of Movie Genres')\n",
    "plt.xlabel('Genre')\n",
    "plt.ylabel('Number of Movies')\n",
    "plt.xticks(rotation=45)\n",
    "plt.grid(axis='y')\n",
    "plt.show()\n"
   ]
  },
  {
   "cell_type": "markdown",
   "metadata": {},
   "source": [
    "\n",
    "This code has created a bar chart showing the top most watched genres based on the dataset. According to our data the most viewed genre is drama the followed by documentary.This means that most viewers and film makers prefer drama and documentaries because they are the most watched genre compared to the others. What we actually did was we re arranged the genres into a descending order and plottted it against the number of movies in oorder to get the best visualization of our data  I would advise my colleagues that we should focus mainly on drama documentaries and comedy in order to get more views and more sales for as to flourish and meet our goals as a company"
   ]
  },
  {
   "cell_type": "markdown",
   "metadata": {},
   "source": [
    "  #### 4.2 Bivariate Analysis"
   ]
  },
  {
   "cell_type": "markdown",
   "metadata": {},
   "source": [
    "shows relationship between two variables"
   ]
  },
  {
   "cell_type": "code",
   "execution_count": 58,
   "metadata": {},
   "outputs": [
    {
     "data": {
      "text/html": [
       "<div>\n",
       "<style scoped>\n",
       "    .dataframe tbody tr th:only-of-type {\n",
       "        vertical-align: middle;\n",
       "    }\n",
       "\n",
       "    .dataframe tbody tr th {\n",
       "        vertical-align: top;\n",
       "    }\n",
       "\n",
       "    .dataframe thead th {\n",
       "        text-align: right;\n",
       "    }\n",
       "</style>\n",
       "<table border=\"1\" class=\"dataframe\">\n",
       "  <thead>\n",
       "    <tr style=\"text-align: right;\">\n",
       "      <th></th>\n",
       "      <th>movie_id</th>\n",
       "      <th>primary_title</th>\n",
       "      <th>original_title</th>\n",
       "      <th>start_year</th>\n",
       "      <th>runtime_minutes</th>\n",
       "      <th>genres</th>\n",
       "      <th>averagerating</th>\n",
       "      <th>numvotes</th>\n",
       "      <th>title</th>\n",
       "      <th>studio</th>\n",
       "      <th>domestic_gross</th>\n",
       "      <th>foreign_gross</th>\n",
       "      <th>year</th>\n",
       "    </tr>\n",
       "  </thead>\n",
       "  <tbody>\n",
       "    <tr>\n",
       "      <th>0</th>\n",
       "      <td>tt0063540</td>\n",
       "      <td>Sunghursh</td>\n",
       "      <td>Sunghursh</td>\n",
       "      <td>2013</td>\n",
       "      <td>175.0</td>\n",
       "      <td>Action,Crime,Drama</td>\n",
       "      <td>8.3</td>\n",
       "      <td>31</td>\n",
       "      <td>Toy Story 3</td>\n",
       "      <td>BV</td>\n",
       "      <td>415000000.0</td>\n",
       "      <td>652000000</td>\n",
       "      <td>2010</td>\n",
       "    </tr>\n",
       "    <tr>\n",
       "      <th>1</th>\n",
       "      <td>tt0066787</td>\n",
       "      <td>One Day Before the Rainy Season</td>\n",
       "      <td>Ashad Ka Ek Din</td>\n",
       "      <td>2019</td>\n",
       "      <td>114.0</td>\n",
       "      <td>Biography,Drama</td>\n",
       "      <td>8.9</td>\n",
       "      <td>559</td>\n",
       "      <td>Alice in Wonderland (2010)</td>\n",
       "      <td>BV</td>\n",
       "      <td>334200000.0</td>\n",
       "      <td>691300000</td>\n",
       "      <td>2010</td>\n",
       "    </tr>\n",
       "    <tr>\n",
       "      <th>2</th>\n",
       "      <td>tt0069049</td>\n",
       "      <td>The Other Side of the Wind</td>\n",
       "      <td>The Other Side of the Wind</td>\n",
       "      <td>2018</td>\n",
       "      <td>122.0</td>\n",
       "      <td>Drama</td>\n",
       "      <td>6.4</td>\n",
       "      <td>20</td>\n",
       "      <td>Harry Potter and the Deathly Hallows Part 1</td>\n",
       "      <td>WB</td>\n",
       "      <td>296000000.0</td>\n",
       "      <td>664300000</td>\n",
       "      <td>2010</td>\n",
       "    </tr>\n",
       "    <tr>\n",
       "      <th>4</th>\n",
       "      <td>tt0100275</td>\n",
       "      <td>The Wandering Soap Opera</td>\n",
       "      <td>La Telenovela Errante</td>\n",
       "      <td>2017</td>\n",
       "      <td>80.0</td>\n",
       "      <td>Comedy,Drama,Fantasy</td>\n",
       "      <td>6.5</td>\n",
       "      <td>21</td>\n",
       "      <td>Shrek Forever After</td>\n",
       "      <td>P/DW</td>\n",
       "      <td>238700000.0</td>\n",
       "      <td>513900000</td>\n",
       "      <td>2010</td>\n",
       "    </tr>\n",
       "    <tr>\n",
       "      <th>5</th>\n",
       "      <td>tt0111414</td>\n",
       "      <td>A Thin Life</td>\n",
       "      <td>A Thin Life</td>\n",
       "      <td>2018</td>\n",
       "      <td>75.0</td>\n",
       "      <td>Comedy</td>\n",
       "      <td>6.2</td>\n",
       "      <td>326</td>\n",
       "      <td>The Twilight Saga: Eclipse</td>\n",
       "      <td>Sum.</td>\n",
       "      <td>300500000.0</td>\n",
       "      <td>398000000</td>\n",
       "      <td>2010</td>\n",
       "    </tr>\n",
       "  </tbody>\n",
       "</table>\n",
       "</div>"
      ],
      "text/plain": [
       "    movie_id                    primary_title              original_title  \\\n",
       "0  tt0063540                        Sunghursh                   Sunghursh   \n",
       "1  tt0066787  One Day Before the Rainy Season             Ashad Ka Ek Din   \n",
       "2  tt0069049       The Other Side of the Wind  The Other Side of the Wind   \n",
       "4  tt0100275         The Wandering Soap Opera       La Telenovela Errante   \n",
       "5  tt0111414                      A Thin Life                 A Thin Life   \n",
       "\n",
       "   start_year  runtime_minutes                genres  averagerating  numvotes  \\\n",
       "0        2013            175.0    Action,Crime,Drama            8.3        31   \n",
       "1        2019            114.0       Biography,Drama            8.9       559   \n",
       "2        2018            122.0                 Drama            6.4        20   \n",
       "4        2017             80.0  Comedy,Drama,Fantasy            6.5        21   \n",
       "5        2018             75.0                Comedy            6.2       326   \n",
       "\n",
       "                                         title studio  domestic_gross  \\\n",
       "0                                  Toy Story 3     BV     415000000.0   \n",
       "1                   Alice in Wonderland (2010)     BV     334200000.0   \n",
       "2  Harry Potter and the Deathly Hallows Part 1     WB     296000000.0   \n",
       "4                          Shrek Forever After   P/DW     238700000.0   \n",
       "5                   The Twilight Saga: Eclipse   Sum.     300500000.0   \n",
       "\n",
       "  foreign_gross  year  \n",
       "0     652000000  2010  \n",
       "1     691300000  2010  \n",
       "2     664300000  2010  \n",
       "4     513900000  2010  \n",
       "5     398000000  2010  "
      ]
     },
     "execution_count": 58,
     "metadata": {},
     "output_type": "execute_result"
    }
   ],
   "source": [
    "movies_reviews_df.head()"
   ]
  },
  {
   "cell_type": "code",
   "execution_count": null,
   "metadata": {},
   "outputs": [],
   "source": []
  },
  {
   "cell_type": "markdown",
   "metadata": {},
   "source": [
    "In this bivariate analysis we look and analyze movie performance by studio based on total domestic gross earnings"
   ]
  },
  {
   "cell_type": "code",
   "execution_count": 59,
   "metadata": {},
   "outputs": [
    {
     "data": {
      "text/plain": [
       "studio\n",
       "BV            1.192953e+10\n",
       "WB            7.231600e+09\n",
       "Fox           7.213900e+09\n",
       "Uni.          6.900138e+09\n",
       "Sony          4.737959e+09\n",
       "                  ...     \n",
       "Grindstone    1.000000e+04\n",
       "ParC          5.900000e+03\n",
       "Shout!        4.100000e+03\n",
       "Olive         2.200000e+03\n",
       "DR            8.000000e+02\n",
       "Name: domestic_gross, Length: 147, dtype: float64"
      ]
     },
     "execution_count": 59,
     "metadata": {},
     "output_type": "execute_result"
    }
   ],
   "source": [
    "# Analyze movie performance by studio based on total domestic gross earnings\n",
    "import matplotlib.pyplot as plt\n",
    "\n",
    "# Group data by studio, sum the domestic gross earnings, and sort in descending order\n",
    "studio_performance = movies_reviews_df.groupby('studio')['domestic_gross'].sum().sort_values(ascending=False)\n",
    "studio_performance"
   ]
  },
  {
   "cell_type": "code",
   "execution_count": 60,
   "metadata": {
    "scrolled": true
   },
   "outputs": [
    {
     "data": {
      "image/png": "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",
      "text/plain": [
       "<Figure size 1200x600 with 1 Axes>"
      ]
     },
     "metadata": {},
     "output_type": "display_data"
    }
   ],
   "source": [
    "# Plot the studio performance as a bar chart\n",
    "plt.figure(figsize=(12, 6))\n",
    "studio_performance.plot(kind='bar', color='skyblue')\n",
    "plt.title('Movie Performance by Studio (Total Domestic Gross Earnings)')\n",
    "plt.xlabel('Studio')\n",
    "plt.ylabel('Total Domestic Gross Earnings')\n",
    "plt.xticks(rotation=45)\n",
    "plt.grid(axis='y')\n",
    "plt.show()\n"
   ]
  },
  {
   "cell_type": "markdown",
   "metadata": {},
   "source": [
    "Interpretation and Conclusion:\n",
    "\n",
    "By analyzing the bar chart of movie performance by studio, we can identify which studios have achieved the highest total domestic gross earnings in my dataset and that is BV studios. This analysis can provide insights into the financial success of studios within the movie industry. We can use this information for various purposes, including studio comparisons, investment decisions, and understanding the competitive landscape of the industry."
   ]
  },
  {
   "cell_type": "markdown",
   "metadata": {},
   "source": [
    "   ##### 4.3 Multivariate analysis"
   ]
  },
  {
   "cell_type": "markdown",
   "metadata": {},
   "source": [
    "It involves examining relationships between multiple variables in a dataset simultaneously. In the dataset 'df20,' we can perform multivariate analysis to explore how multiple variables, such as 'averagerating,' 'numvotes,' and 'runtime_minutes,' are related. One way to visualize this is by creating a heatmap of the correlations between these variables"
   ]
  },
  {
   "cell_type": "code",
   "execution_count": 61,
   "metadata": {},
   "outputs": [
    {
     "name": "stderr",
     "output_type": "stream",
     "text": [
      "C:\\Users\\HPX360\\AppData\\Local\\Temp\\ipykernel_34740\\2916089174.py:6: FutureWarning: The default value of numeric_only in DataFrame.corr is deprecated. In a future version, it will default to False. Select only valid columns or specify the value of numeric_only to silence this warning.\n",
      "  correlation_matrix = movies_reviews_df.corr()\n"
     ]
    },
    {
     "data": {
      "image/png": "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",
      "text/plain": [
       "<Figure size 1000x800 with 2 Axes>"
      ]
     },
     "metadata": {},
     "output_type": "display_data"
    }
   ],
   "source": [
    "\n",
    "# Analyze correlations between variables and create a heatmap\n",
    "import seaborn as sns\n",
    "import matplotlib.pyplot as plt\n",
    "\n",
    "# Compute the correlation matrix\n",
    "correlation_matrix = movies_reviews_df.corr()\n",
    "\n",
    "# Create a heatmap using seaborn\n",
    "plt.figure(figsize=(10, 8))\n",
    "sns.heatmap(correlation_matrix, annot=True, cmap='coolwarm', fmt=\".2f\", linewidths=0.5)\n",
    "plt.title('Correlation Heatmap')\n",
    "plt.show()\n"
   ]
  },
  {
   "cell_type": "markdown",
   "metadata": {},
   "source": [
    "Near-zero correlations (values close to 0) indicate a lack of a strong linear relationship between variables.The closest positive correlation seen is between start_year and the year that movies are produced but it is very low. We can see in the other variables its like there's no linear relation "
   ]
  },
  {
   "cell_type": "code",
   "execution_count": null,
   "metadata": {},
   "outputs": [],
   "source": []
  },
  {
   "cell_type": "markdown",
   "metadata": {},
   "source": [
    "## 5. CONCLUSION  "
   ]
  },
  {
   "cell_type": "markdown",
   "metadata": {},
   "source": [
    "The exploratory data analysis (EDA) of the movie dataset 'df20' has provided valuable insights into various aspects of the dataset. Here are the key findings and conclusions from the analysis:\n",
    "\n",
    "Univariate Analysis:\n",
    "\n",
    "Categorical Data: The dataset contains categorical variables such as 'movie_id,' 'primary_title,' 'original_title,' 'genres,' 'title,' and 'studio.' These variables have been described, including counts of unique values and the most frequent entries.\n",
    "\n",
    "Numerical Data: Descriptive statistics were computed for numerical variables, including 'runtime_minutes,' 'averagerating,' 'numvotes,' 'domestic_gross,' 'start_year,' and 'year.' The measures of central tendency (mean, median, and mode) and measures of dispersion (standard deviation) were analyzed for these variables.\n",
    "\n",
    "Runtime Distribution: The distribution of movie runtimes shows a peak around the average runtime of approximately 90 minutes, indicating a roughly symmetrical distribution.\n",
    "\n",
    "Movie Release Year Trends: The analysis of movie release years revealed interesting trends. There was a steady decrease in movie releases from 2010 to 2016, followed by an increase from 2017 onwards. 2019 had the highest number of movie releases. The reasons for these trends could be explored further.\n",
    "\n",
    "Genre Popularity: The most popular movie genre based on the dataset is 'Drama,' followed by 'Documentary.' These findings suggest that viewers and filmmakers have a preference for drama and documentaries.\n",
    "\n",
    "Bivariate Analysis:\n",
    "\n",
    "Movie Performance by Studio: The analysis of total domestic gross earnings by studio identified BV studios as the top-performing studio in terms of earnings. This information is valuable for understanding the financial success of studios and making industry comparisons. We can conlude that BV studio is the most prefered studio for film makers and we must try and emulate what they are doing in order to make huge profits\n",
    "\n",
    "Multivariate Analysis:\n",
    "\n",
    "Correlation Analysis: A correlation heatmap was generated to explore relationships between multiple numerical variables in the dataset. The analysis found that most variables have low or near-zero correlations, indicating a lack of strong linear relationships. The closest positive correlation observed was between 'start_year' and the 'year' of movie production, but it was relatively low.\n",
    "\n",
    "Overall Conclusion:\n",
    "\n",
    "The movie dataset movies_review_df provides valuable insights into movie characteristics, trends, and performance. Key takeaways include the observation of changing movie release trends over the years, the popularity of drama and documentaries among viewers, and the financial success of BV studios.\n",
    "Further analysis and investigation can be conducted to explore the underlying factors driving these trends and correlations, allowing for more informed decision-making within the movie industry.\n",
    "It's important to note that while correlations provide insights into linear relationships, other complex relationships and factors may influence movie performance and trends.\n",
    "\n",
    "\n",
    "\n",
    "\n",
    "\n",
    "\n",
    "\n"
   ]
  },
  {
   "cell_type": "code",
   "execution_count": null,
   "metadata": {},
   "outputs": [],
   "source": []
  },
  {
   "cell_type": "markdown",
   "metadata": {},
   "source": [
    "## 6.0 RECOMMENDATIONS"
   ]
  },
  {
   "cell_type": "markdown",
   "metadata": {},
   "source": [
    "Studios may consider focusing on drama and documentary genres to cater to viewer preferences based on the formulated analysis \n",
    "\n",
    "Further analysis should be conducted to understand the factors influencing movie release trends but we can conclude that in 2019 more movies we produced because of covid 19. Most guys were at home because of the lockdown.\n",
    "\n",
    "Microsft Studios can use insights from top-performing studios like BV to inform their strategies.\n",
    "\n",
    "Explore non-linear relationships and external factors that may affect movie performance.\n",
    "\n",
    "This comprehensive analysis provides a foundation for deeper investigations and data-driven decision-making in the movie industry."
   ]
  },
  {
   "cell_type": "code",
   "execution_count": null,
   "metadata": {},
   "outputs": [],
   "source": []
  }
 ],
 "metadata": {
  "kernelspec": {
   "display_name": "Python 3 (ipykernel)",
   "language": "python",
   "name": "python3"
  },
  "language_info": {
   "codemirror_mode": {
    "name": "ipython",
    "version": 3
   },
   "file_extension": ".py",
   "mimetype": "text/x-python",
   "name": "python",
   "nbconvert_exporter": "python",
   "pygments_lexer": "ipython3",
   "version": "3.11.4"
  }
 },
 "nbformat": 4,
 "nbformat_minor": 2
}
